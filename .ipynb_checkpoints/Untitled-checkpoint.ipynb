{
 "cells": [
  {
   "cell_type": "code",
   "execution_count": 1,
   "id": "b6922a07",
   "metadata": {},
   "outputs": [],
   "source": [
    "def create_dataset(directory):\n",
    "    #before work\n",
    "    import cv2\n",
    "    import glob\n",
    "    files=glob.glob(directory+'/*.jpeg')\n",
    "    dataset=[]\n",
    "    labels=[]\n",
    "    for file in files:\n",
    "        img=cv2.imread(file,cv2.IMREAD_GRAYSCALE)\n",
    "        dataset.append(img)\n",
    "        #write your code\n",
    "        if \"virus\" in file:\n",
    "            labels.append(\"0\")\n",
    "        elif \"bacteria\" in file:\n",
    "            labels.append(\"1\")\n",
    "        else:\n",
    "            labels.append(\"2\")\n",
    "\n",
    "    from numpy import asarray\n",
    "    dataset=asarray(dataset).astype('float32')\n",
    "    dataset=dataset/255.0\n",
    "    return dataset,labels"
   ]
  },
  {
   "cell_type": "code",
   "execution_count": null,
   "id": "691f30e3",
   "metadata": {},
   "outputs": [],
   "source": [
    "dataset,labels=create_dataset('chest_xray_lower_dim')\n",
    "import tensorflow as tf\n",
    "from sklearn.model_selection import train_test_split\n",
    "from tensorflow import keras\n",
    "from keras import layers\n",
    "from keras import utils\n",
    "import sklearn.metrics as metrics\n",
    "import numpy as np\n",
    "from tensorflow.keras import regularizers\n",
    "import math\n",
    "import matplotlib.pyplot as plt"
   ]
  }
 ],
 "metadata": {
  "kernelspec": {
   "display_name": "Python 3 (ipykernel)",
   "language": "python",
   "name": "python3"
  },
  "language_info": {
   "codemirror_mode": {
    "name": "ipython",
    "version": 3
   },
   "file_extension": ".py",
   "mimetype": "text/x-python",
   "name": "python",
   "nbconvert_exporter": "python",
   "pygments_lexer": "ipython3",
   "version": "3.9.7"
  }
 },
 "nbformat": 4,
 "nbformat_minor": 5
}
