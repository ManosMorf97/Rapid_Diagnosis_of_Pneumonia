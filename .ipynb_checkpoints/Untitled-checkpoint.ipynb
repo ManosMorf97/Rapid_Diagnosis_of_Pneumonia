{
 "cells": [
  {
   "cell_type": "code",
   "execution_count": 11,
   "id": "a3c50baa",
   "metadata": {},
   "outputs": [
    {
     "name": "stdout",
     "output_type": "stream",
     "text": [
      "Requirement already satisfied: pip in d:\\anaconda\\lib\\site-packages (22.0.4)\n",
      "Requirement already satisfied: opencv-python in d:\\anaconda\\lib\\site-packages (4.5.5.64)\n",
      "Requirement already satisfied: numpy>=1.19.3 in d:\\anaconda\\lib\\site-packages (from opencv-python) (1.20.3)\n",
      "Requirement already satisfied: pillow in d:\\anaconda\\lib\\site-packages (8.4.0)\n"
     ]
    }
   ],
   "source": [
    "!pip install --upgrade pip\n",
    "!pip install opencv-python    \n",
    "!pip install pillow"
   ]
  },
  {
   "cell_type": "code",
   "execution_count": 18,
   "id": "bb20c37b",
   "metadata": {
    "scrolled": false
   },
   "outputs": [
    {
     "name": "stdout",
     "output_type": "stream",
     "text": [
      "Done\n"
     ]
    }
   ],
   "source": [
    "# write to anaconda prompt: jupyter notebook --NotebookApp.iopub_data_rate_limit=1.0e10\n",
    "from PIL import Image\n",
    "import os\n",
    "path='chest_xray_lower_dim'\n",
    "old_path='chest_xray/'\n",
    "isExist = os.path.exists(path)\n",
    "if not isExist:\n",
    "    os.makedirs(path)\n",
    "import cv2\n",
    "import glob\n",
    "files=glob.glob('chest_xray/*.jpeg')\n",
    "dataset=[]\n",
    "labels=[]\n",
    "import PIL\n",
    "from PIL import Image\n",
    "import cv2\n",
    "for file in files:\n",
    "    img=Image.open(file)\n",
    "    img=img.convert(mode='L')#too much information without reason x-rays are BlackWhite\n",
    "    img=img.resize((400,400))#we try to stop curse of dimensionality\n",
    "    img.save('chest_xray_lower_dim/'+file[len(old_path):])\n",
    "print('Done')"
   ]
  },
  {
   "cell_type": "code",
   "execution_count": 1,
   "id": "b9c0a862",
   "metadata": {},
   "outputs": [
    {
     "name": "stdout",
     "output_type": "stream",
     "text": [
      "Done\n"
     ]
    }
   ],
   "source": [
    "# write to anaconda prompt: jupyter notebook --NotebookApp.iopub_data_rate_limit=1.0e10\n",
    "from PIL import Image\n",
    "import os\n",
    "path='chest_xray_lower_dim2'\n",
    "old_path='chest_xray_lower_dim/'\n",
    "isExist = os.path.exists(path)\n",
    "if not isExist:\n",
    "    os.makedirs(path)\n",
    "import cv2\n",
    "import glob\n",
    "files=glob.glob('chest_xray_lower_dim/*.jpeg')\n",
    "dataset=[]\n",
    "labels=[]\n",
    "import PIL\n",
    "from PIL import Image\n",
    "import cv2\n",
    "for file in files:\n",
    "    img=Image.open(file)\n",
    "    img=img.convert(mode='L')#too much information without reason x-rays are BlackWhite\n",
    "    img=img.resize((100,100))#we try to stop curse of dimensionality\n",
    "    img.save('chest_xray_lower_dim2/'+file[len(old_path):])\n",
    "print('Done')"
   ]
  },
  {
   "cell_type": "code",
   "execution_count": 1,
   "id": "52a05f05",
   "metadata": {},
   "outputs": [],
   "source": [
    "#before work\n",
    "import cv2\n",
    "import glob\n",
    "files=glob.glob('chest_xray_lower_dim2/*.jpeg')\n",
    "dataset=[]\n",
    "labels=[]\n",
    "for file in files:\n",
    "    img=cv2.imread(file,cv2.IMREAD_GRAYSCALE)\n",
    "    dataset.append(img)\n",
    "    #write your code\n",
    "    if \"virus\" in file:\n",
    "        labels.append(\"0\")\n",
    "    elif \"bacteria\" in file:\n",
    "        labels.append(\"1\")\n",
    "    else:\n",
    "        labels.append(\"2\")\n",
    "        \n",
    "from numpy import asarray\n",
    "dataset=asarray(dataset).astype('float32')\n",
    "dataset=dataset/255.0\n",
    "\n",
    "import tensorflow as tf\n",
    "from sklearn.model_selection import train_test_split\n",
    "from tensorflow import keras\n",
    "from keras import layers\n",
    "from keras import utils\n",
    "import sklearn.metrics as metrics\n",
    "import numpy as np"
   ]
  },
  {
   "cell_type": "code",
   "execution_count": null,
   "id": "e2e90bee",
   "metadata": {},
   "outputs": [],
   "source": [
    "!pip install tensorflow"
   ]
  },
  {
   "cell_type": "code",
   "execution_count": 16,
   "id": "405e1f3e",
   "metadata": {},
   "outputs": [],
   "source": [
    "#maybe we will need it"
   ]
  },
  {
   "cell_type": "code",
   "execution_count": 14,
   "id": "87c84d7e",
   "metadata": {},
   "outputs": [
    {
     "name": "stdout",
     "output_type": "stream",
     "text": [
      "Model: \"model_9\"\n",
      "_________________________________________________________________\n",
      " Layer (type)                Output Shape              Param #   \n",
      "=================================================================\n",
      " input_10 (InputLayer)       [(None, 100, 100, 1)]     0         \n",
      "                                                                 \n",
      " conv2d_18 (Conv2D)          (None, 98, 98, 10)        100       \n",
      "                                                                 \n",
      " max_pooling2d_9 (MaxPooling  (None, 49, 49, 10)       0         \n",
      " 2D)                                                             \n",
      "                                                                 \n",
      " conv2d_19 (Conv2D)          (None, 47, 47, 10)        910       \n",
      "                                                                 \n",
      " average_pooling2d_9 (Averag  (None, 23, 23, 10)       0         \n",
      " ePooling2D)                                                     \n",
      "                                                                 \n",
      " flatten_9 (Flatten)         (None, 5290)              0         \n",
      "                                                                 \n",
      " dense_59 (Dense)            (None, 30)                158730    \n",
      "                                                                 \n",
      " dense_60 (Dense)            (None, 30)                930       \n",
      "                                                                 \n",
      " dense_61 (Dense)            (None, 30)                930       \n",
      "                                                                 \n",
      " dense_62 (Dense)            (None, 30)                930       \n",
      "                                                                 \n",
      " dense_63 (Dense)            (None, 30)                930       \n",
      "                                                                 \n",
      " dense_64 (Dense)            (None, 3)                 93        \n",
      "                                                                 \n",
      "=================================================================\n",
      "Total params: 163,553\n",
      "Trainable params: 163,553\n",
      "Non-trainable params: 0\n",
      "_________________________________________________________________\n",
      "37/37 [==============================] - 1s 28ms/step - loss: 0.5456 - accuracy: 0.7543\n",
      "Test loss: 0.5455935597419739\n",
      "Test accuracy: 0.7542662024497986\n"
     ]
    }
   ],
   "source": [
    "X_train,X_test,Y_train,Y_test=train_test_split(\n",
    "dataset, labels, test_size=0.2, random_state=42)\n",
    "X_train=X_train.reshape(-1,100,100,1)\n",
    "X_test=X_test.reshape(-1,100,100,1)\n",
    "Y_train = keras.utils.to_categorical(Y_train,3)\n",
    "Y_test = keras.utils.to_categorical(Y_test,3)\n",
    "Inp=layers.Input(shape=(100,100,1))\n",
    "hidden=layers.Conv2D(10,kernel_size=(3,3),padding='valid',activation='relu')(Inp)\n",
    "hidden=layers.MaxPool2D(pool_size=(2,2),strides=(2,2))(hidden)\n",
    "hidden=layers.Conv2D(10,kernel_size=(3,3),padding='valid',activation='relu')(hidden)\n",
    "hidden=layers.AveragePooling2D(pool_size=(2,2),strides=(2,2))(hidden)\n",
    "hidden=layers.Flatten()(hidden)\n",
    "for i in range(5):\n",
    "    hidden=layers.Dense(30,activation=\"relu\",kernel_initializer=tf.keras.initializers.RandomUniform(minval=-1/76.4, maxval=1/76.4, seed=None))(hidden)\n",
    "output=layers.Dense(3,activation=\"softmax\")(hidden)\n",
    "model=keras.Model(Inp,output)\n",
    "model.compile(loss=\"categorical_crossentropy\",optimizer='adam',metrics=tf.keras.metrics.SparseCategoricalAccuracy())\n",
    "model.fit(X_train,Y_train,epochs=int(len(X_train)/200),batch_size=200,verbose=0)\n",
    "model.summary()\n",
    "score = model.evaluate(X_test, Y_test,verbose=2)\n",
    "print(\"Test loss:\", score[0])\n",
    "print(\"Test accuracy:\", score[1])"
   ]
  },
  {
   "cell_type": "code",
   "execution_count": 13,
   "id": "3edd4baa",
   "metadata": {},
   "outputs": [
    {
     "name": "stdout",
     "output_type": "stream",
     "text": [
      "4684\n"
     ]
    },
    {
     "ename": "KeyboardInterrupt",
     "evalue": "Interrupted by user",
     "output_type": "error",
     "traceback": [
      "\u001b[1;31m---------------------------------------------------------------------------\u001b[0m",
      "\u001b[1;31mKeyboardInterrupt\u001b[0m                         Traceback (most recent call last)",
      "\u001b[1;32m~\\AppData\\Local\\Temp/ipykernel_14828/533540386.py\u001b[0m in \u001b[0;36m<module>\u001b[1;34m\u001b[0m\n\u001b[0;32m      3\u001b[0m dataset, labels, test_size=0.2, random_state=42)\n\u001b[0;32m      4\u001b[0m \u001b[0mprint\u001b[0m\u001b[1;33m(\u001b[0m\u001b[0mlen\u001b[0m\u001b[1;33m(\u001b[0m\u001b[0mX_train\u001b[0m\u001b[1;33m)\u001b[0m\u001b[1;33m)\u001b[0m\u001b[1;33m\u001b[0m\u001b[1;33m\u001b[0m\u001b[0m\n\u001b[1;32m----> 5\u001b[1;33m \u001b[0minput\u001b[0m\u001b[1;33m(\u001b[0m\u001b[1;33m)\u001b[0m\u001b[1;33m\u001b[0m\u001b[1;33m\u001b[0m\u001b[0m\n\u001b[0m\u001b[0;32m      6\u001b[0m \u001b[0mX_train\u001b[0m\u001b[1;33m=\u001b[0m\u001b[0mX_train\u001b[0m\u001b[1;33m.\u001b[0m\u001b[0mreshape\u001b[0m\u001b[1;33m(\u001b[0m\u001b[1;33m-\u001b[0m\u001b[1;36m1\u001b[0m\u001b[1;33m,\u001b[0m\u001b[1;36m100\u001b[0m\u001b[1;33m,\u001b[0m\u001b[1;36m100\u001b[0m\u001b[1;33m,\u001b[0m\u001b[1;36m1\u001b[0m\u001b[1;33m)\u001b[0m\u001b[1;33m\u001b[0m\u001b[1;33m\u001b[0m\u001b[0m\n\u001b[0;32m      7\u001b[0m \u001b[0mX_test\u001b[0m\u001b[1;33m=\u001b[0m\u001b[0mX_test\u001b[0m\u001b[1;33m.\u001b[0m\u001b[0mreshape\u001b[0m\u001b[1;33m(\u001b[0m\u001b[1;33m-\u001b[0m\u001b[1;36m1\u001b[0m\u001b[1;33m,\u001b[0m\u001b[1;36m100\u001b[0m\u001b[1;33m,\u001b[0m\u001b[1;36m100\u001b[0m\u001b[1;33m,\u001b[0m\u001b[1;36m1\u001b[0m\u001b[1;33m)\u001b[0m\u001b[1;33m\u001b[0m\u001b[1;33m\u001b[0m\u001b[0m\n",
      "\u001b[1;32mD:\\Anaconda\\lib\\site-packages\\ipykernel\\kernelbase.py\u001b[0m in \u001b[0;36mraw_input\u001b[1;34m(self, prompt)\u001b[0m\n\u001b[0;32m   1004\u001b[0m                 \u001b[1;34m\"raw_input was called, but this frontend does not support input requests.\"\u001b[0m\u001b[1;33m\u001b[0m\u001b[1;33m\u001b[0m\u001b[0m\n\u001b[0;32m   1005\u001b[0m             )\n\u001b[1;32m-> 1006\u001b[1;33m         return self._input_request(\n\u001b[0m\u001b[0;32m   1007\u001b[0m             \u001b[0mstr\u001b[0m\u001b[1;33m(\u001b[0m\u001b[0mprompt\u001b[0m\u001b[1;33m)\u001b[0m\u001b[1;33m,\u001b[0m\u001b[1;33m\u001b[0m\u001b[1;33m\u001b[0m\u001b[0m\n\u001b[0;32m   1008\u001b[0m             \u001b[0mself\u001b[0m\u001b[1;33m.\u001b[0m\u001b[0m_parent_ident\u001b[0m\u001b[1;33m[\u001b[0m\u001b[1;34m\"shell\"\u001b[0m\u001b[1;33m]\u001b[0m\u001b[1;33m,\u001b[0m\u001b[1;33m\u001b[0m\u001b[1;33m\u001b[0m\u001b[0m\n",
      "\u001b[1;32mD:\\Anaconda\\lib\\site-packages\\ipykernel\\kernelbase.py\u001b[0m in \u001b[0;36m_input_request\u001b[1;34m(self, prompt, ident, parent, password)\u001b[0m\n\u001b[0;32m   1049\u001b[0m             \u001b[1;32mexcept\u001b[0m \u001b[0mKeyboardInterrupt\u001b[0m\u001b[1;33m:\u001b[0m\u001b[1;33m\u001b[0m\u001b[1;33m\u001b[0m\u001b[0m\n\u001b[0;32m   1050\u001b[0m                 \u001b[1;31m# re-raise KeyboardInterrupt, to truncate traceback\u001b[0m\u001b[1;33m\u001b[0m\u001b[1;33m\u001b[0m\u001b[0m\n\u001b[1;32m-> 1051\u001b[1;33m                 \u001b[1;32mraise\u001b[0m \u001b[0mKeyboardInterrupt\u001b[0m\u001b[1;33m(\u001b[0m\u001b[1;34m\"Interrupted by user\"\u001b[0m\u001b[1;33m)\u001b[0m \u001b[1;32mfrom\u001b[0m \u001b[1;32mNone\u001b[0m\u001b[1;33m\u001b[0m\u001b[1;33m\u001b[0m\u001b[0m\n\u001b[0m\u001b[0;32m   1052\u001b[0m             \u001b[1;32mexcept\u001b[0m \u001b[0mException\u001b[0m\u001b[1;33m:\u001b[0m\u001b[1;33m\u001b[0m\u001b[1;33m\u001b[0m\u001b[0m\n\u001b[0;32m   1053\u001b[0m                 \u001b[0mself\u001b[0m\u001b[1;33m.\u001b[0m\u001b[0mlog\u001b[0m\u001b[1;33m.\u001b[0m\u001b[0mwarning\u001b[0m\u001b[1;33m(\u001b[0m\u001b[1;34m\"Invalid Message:\"\u001b[0m\u001b[1;33m,\u001b[0m \u001b[0mexc_info\u001b[0m\u001b[1;33m=\u001b[0m\u001b[1;32mTrue\u001b[0m\u001b[1;33m)\u001b[0m\u001b[1;33m\u001b[0m\u001b[1;33m\u001b[0m\u001b[0m\n",
      "\u001b[1;31mKeyboardInterrupt\u001b[0m: Interrupted by user"
     ]
    }
   ],
   "source": [
    "#με αυτό το score για 2η φάση α\n",
    "X_train,X_test,Y_train,Y_test=train_test_split(\n",
    "dataset, labels, test_size=0.2, random_state=42)\n",
    "X_train=X_train.reshape(-1,100,100,1)\n",
    "X_test=X_test.reshape(-1,100,100,1)\n",
    "Y_train = keras.utils.to_categorical(Y_train,3)\n",
    "Y_test = keras.utils.to_categorical(Y_test,3)\n",
    "Inp=layers.Input(shape=(100,100,1))\n",
    "hidden=layers.Conv2D(10,kernel_size=(3,3),padding='valid',activation='relu')(Inp)\n",
    "hidden=layers.MaxPool2D(pool_size=(2,2),strides=(2,2))(hidden)\n",
    "hidden=layers.Conv2D(10,kernel_size=(3,3),padding='valid',activation='relu')(hidden)\n",
    "hidden=layers.AveragePooling2D(pool_size=(2,2),strides=(2,2))(hidden)\n",
    "hidden=layers.Flatten()(hidden)\n",
    "for i in range(0):\n",
    "    hidden=layers.Dense(30,activation=\"relu\",kernel_initializer=tf.keras.initializers.RandomUniform(minval=-1/76.4, maxval=1/76.4, seed=None))(hidden)\n",
    "output=layers.Dense(3,activation=\"softmax\")(hidden)\n",
    "model=keras.Model(Inp,output)\n",
    "model.compile(loss=\"categorical_crossentropy\",optimizer='adam',metrics=metrics=tf.keras.metrics.SparseCategoricalAccuracy())\n",
    "model.fit(X_train,Y_train,epochs=int(len(X_train)/100),batch_size=200,verbose=0)\n",
    "model.summary()\n",
    "score = model.evaluate(X_test, Y_test)\n",
    "print(\"Test loss:\", score[0])\n",
    "print(\"Test accuracy:\", score[1])"
   ]
  },
  {
   "cell_type": "code",
   "execution_count": null,
   "id": "2048903a",
   "metadata": {},
   "outputs": [],
   "source": []
  }
 ],
 "metadata": {
  "kernelspec": {
   "display_name": "Python 3 (ipykernel)",
   "language": "python",
   "name": "python3"
  },
  "language_info": {
   "codemirror_mode": {
    "name": "ipython",
    "version": 3
   },
   "file_extension": ".py",
   "mimetype": "text/x-python",
   "name": "python",
   "nbconvert_exporter": "python",
   "pygments_lexer": "ipython3",
   "version": "3.9.7"
  }
 },
 "nbformat": 4,
 "nbformat_minor": 5
}
