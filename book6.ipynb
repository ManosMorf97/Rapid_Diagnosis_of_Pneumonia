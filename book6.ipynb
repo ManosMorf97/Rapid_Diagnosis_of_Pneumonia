{
 "cells": [
  {
   "cell_type": "code",
   "execution_count": 1,
   "id": "3ed41259",
   "metadata": {},
   "outputs": [],
   "source": [
    "import pandas as pd       \n",
    "import matplotlib as mat\n",
    "import matplotlib.pyplot as plt    \n",
    "import numpy as np\n",
    "import seaborn as sns\n",
    "\n",
    "import random\n",
    "import os\n",
    "from numpy.random import seed\n",
    "seed(42)\n",
    "random.seed(42)\n",
    "\n",
    "from sklearn.model_selection import train_test_split\n",
    "from sklearn import metrics\n",
    "from sklearn.metrics import accuracy_score\n",
    "\n",
    "import tensorflow as tf\n",
    "from tensorflow import keras\n",
    "from tensorflow.keras import layers\n",
    "from tensorflow.keras import callbacks\n",
    "from tensorflow.keras.models import Model\n",
    "from tensorflow.keras.preprocessing.image import ImageDataGenerator\n",
    "\n",
    "import glob\n",
    "import cv2\n",
    "\n",
    "from tensorflow.random import set_seed\n"
   ]
  },
  {
   "cell_type": "code",
   "execution_count": null,
   "id": "6f129f5b",
   "metadata": {},
   "outputs": [],
   "source": []
  },
  {
   "cell_type": "code",
   "execution_count": 2,
   "id": "a5eecb1d",
   "metadata": {},
   "outputs": [],
   "source": [
    "main_path=\"C:/Users/cool/Desktop/texniti noimosini/spl\"\n",
    "\n",
    "train_path = os.path.join(main_path,\"train\")\n",
    "test_path=os.path.join(main_path,\"test\")\n",
    "\n",
    "\n",
    "train_normal = glob.glob(train_path+\"/NORMAL/*.jpeg\")\n",
    "train_pneumonia = glob.glob(train_path+\"/BACTERIA/*.jpeg\")\n",
    "train_VIRUS = glob.glob(train_path+\"/VIRUS/*.jpeg\")\n",
    "\n",
    "test_normal = glob.glob(test_path+\"/NORMAL/*.jpeg\")\n",
    "test_pneumonia = glob.glob(test_path+\"/BACTERIA/*.jpeg\")\n",
    "test_VIRUS = glob.glob(test_path+\"/VIRUS/*.jpeg\")\n"
   ]
  },
  {
   "cell_type": "code",
   "execution_count": 3,
   "id": "740b431f",
   "metadata": {},
   "outputs": [],
   "source": [
    "train_list = [x for x in train_normal]\n",
    "train_list.extend([x for x in train_pneumonia])\n",
    "train_list.extend([x for x in train_VIRUS])\n",
    "\n",
    "df_train = pd.DataFrame(np.concatenate([['Normal']*len(train_normal) , ['Virus']*len(train_VIRUS) , ['Pneumonia']*len(train_pneumonia)]), columns = ['class'])\n",
    "df_train['image'] = [x for x in train_list]\n",
    "\n",
    "test_list = [x for x in test_normal]\n",
    "test_list.extend([x for x in test_pneumonia])\n",
    "test_list.extend([x for x in test_VIRUS])\n",
    "\n",
    "df_test = pd.DataFrame(np.concatenate([['Normal']*len(test_normal) , ['Pneumonia']*len(test_pneumonia), ['Virus']*len(test_VIRUS)]), columns = ['class'])\n",
    "df_test['image'] = [x for x in test_list]"
   ]
  },
  {
   "cell_type": "code",
   "execution_count": 4,
   "id": "45b624f6",
   "metadata": {},
   "outputs": [
    {
     "name": "stdout",
     "output_type": "stream",
     "text": [
      "      class                                              image\n",
      "0    Normal  C:/Users/cool/Desktop/texniti noimosini/spl\\te...\n",
      "1    Normal  C:/Users/cool/Desktop/texniti noimosini/spl\\te...\n",
      "2    Normal  C:/Users/cool/Desktop/texniti noimosini/spl\\te...\n",
      "3    Normal  C:/Users/cool/Desktop/texniti noimosini/spl\\te...\n",
      "4    Normal  C:/Users/cool/Desktop/texniti noimosini/spl\\te...\n",
      "..      ...                                                ...\n",
      "619   Virus  C:/Users/cool/Desktop/texniti noimosini/spl\\te...\n",
      "620   Virus  C:/Users/cool/Desktop/texniti noimosini/spl\\te...\n",
      "621   Virus  C:/Users/cool/Desktop/texniti noimosini/spl\\te...\n",
      "622   Virus  C:/Users/cool/Desktop/texniti noimosini/spl\\te...\n",
      "623   Virus  C:/Users/cool/Desktop/texniti noimosini/spl\\te...\n",
      "\n",
      "[624 rows x 2 columns]\n",
      "          class                                              image\n",
      "0        Normal  C:/Users/cool/Desktop/texniti noimosini/spl\\tr...\n",
      "1        Normal  C:/Users/cool/Desktop/texniti noimosini/spl\\tr...\n",
      "2        Normal  C:/Users/cool/Desktop/texniti noimosini/spl\\tr...\n",
      "3        Normal  C:/Users/cool/Desktop/texniti noimosini/spl\\tr...\n",
      "4        Normal  C:/Users/cool/Desktop/texniti noimosini/spl\\tr...\n",
      "...         ...                                                ...\n",
      "5207  Pneumonia  C:/Users/cool/Desktop/texniti noimosini/spl\\tr...\n",
      "5208  Pneumonia  C:/Users/cool/Desktop/texniti noimosini/spl\\tr...\n",
      "5209  Pneumonia  C:/Users/cool/Desktop/texniti noimosini/spl\\tr...\n",
      "5210  Pneumonia  C:/Users/cool/Desktop/texniti noimosini/spl\\tr...\n",
      "5211  Pneumonia  C:/Users/cool/Desktop/texniti noimosini/spl\\tr...\n",
      "\n",
      "[5212 rows x 2 columns]\n"
     ]
    }
   ],
   "source": [
    "print(df_test)\n",
    "print(df_train)"
   ]
  },
  {
   "cell_type": "code",
   "execution_count": null,
   "id": "78dc2d3e",
   "metadata": {},
   "outputs": [],
   "source": []
  },
  {
   "cell_type": "code",
   "execution_count": 5,
   "id": "1055d00a",
   "metadata": {},
   "outputs": [],
   "source": [
    "IMG_SIZE = 224\n",
    "BATCH = 32\n",
    "SEED = 42"
   ]
  },
  {
   "cell_type": "code",
   "execution_count": 24,
   "id": "b7857ee9",
   "metadata": {},
   "outputs": [
    {
     "name": "stdout",
     "output_type": "stream",
     "text": [
      "(4169, 2)\n",
      "          class                                              image\n",
      "3978  Pneumonia  C:/Users/cool/Desktop/texniti noimosini/spl\\tr...\n",
      "648      Normal  C:/Users/cool/Desktop/texniti noimosini/spl\\tr...\n",
      "3267  Pneumonia  C:/Users/cool/Desktop/texniti noimosini/spl\\tr...\n",
      "4736  Pneumonia  C:/Users/cool/Desktop/texniti noimosini/spl\\tr...\n",
      "1263     Normal  C:/Users/cool/Desktop/texniti noimosini/spl\\tr...\n",
      "4838  Pneumonia  C:/Users/cool/Desktop/texniti noimosini/spl\\tr...\n",
      "1275     Normal  C:/Users/cool/Desktop/texniti noimosini/spl\\tr...\n",
      "1109     Normal  C:/Users/cool/Desktop/texniti noimosini/spl\\tr...\n",
      "3113  Pneumonia  C:/Users/cool/Desktop/texniti noimosini/spl\\tr...\n",
      "3488  Pneumonia  C:/Users/cool/Desktop/texniti noimosini/spl\\tr...\n",
      "4276  Pneumonia  C:/Users/cool/Desktop/texniti noimosini/spl\\tr...\n",
      "3645  Pneumonia  C:/Users/cool/Desktop/texniti noimosini/spl\\tr...\n",
      "4929  Pneumonia  C:/Users/cool/Desktop/texniti noimosini/spl\\tr...\n",
      "1405      Virus  C:/Users/cool/Desktop/texniti noimosini/spl\\tr...\n",
      "4593  Pneumonia  C:/Users/cool/Desktop/texniti noimosini/spl\\tr...\n",
      "3955  Pneumonia  C:/Users/cool/Desktop/texniti noimosini/spl\\tr...\n",
      "160      Normal  C:/Users/cool/Desktop/texniti noimosini/spl\\tr...\n",
      "3019  Pneumonia  C:/Users/cool/Desktop/texniti noimosini/spl\\tr...\n",
      "152      Normal  C:/Users/cool/Desktop/texniti noimosini/spl\\tr...\n",
      "1811      Virus  C:/Users/cool/Desktop/texniti noimosini/spl\\tr...\n"
     ]
    }
   ],
   "source": [
    "train_df, val_df = train_test_split(df_train, test_size = 0.20, shuffle=True, random_state = SEED, stratify = df_train['class'])\n",
    "print(train_df.shape)\n",
    "print(val_df[:20])"
   ]
  },
  {
   "cell_type": "code",
   "execution_count": 7,
   "id": "952febcc",
   "metadata": {},
   "outputs": [
    {
     "name": "stdout",
     "output_type": "stream",
     "text": [
      "Found 4169 validated image filenames belonging to 3 classes.\n",
      "Found 1043 validated image filenames belonging to 3 classes.\n",
      "Found 624 validated image filenames belonging to 3 classes.\n"
     ]
    }
   ],
   "source": [
    "# https://vijayabhaskar96.medium.com/tutorial-on-keras-flow-from-dataframe-1fd4493d237c\n",
    "\n",
    "train_datagen = ImageDataGenerator(rescale=1/255.,\n",
    "                                  zoom_range = 0.1,\n",
    "                                  rotation_range = 0.1,\n",
    "                                  width_shift_range = 0.1,\n",
    "                                  height_shift_range = 0.1)\n",
    "\n",
    "val_datagen = ImageDataGenerator(rescale=1/255.)\n",
    "\n",
    "ds_train = train_datagen.flow_from_dataframe(train_df,\n",
    "                                             x_col = 'image',\n",
    "                                             y_col = 'class',\n",
    "                                             target_size = (IMG_SIZE, IMG_SIZE),\n",
    "                                             class_mode = 'categorical',\n",
    "                                             batch_size = BATCH,\n",
    "                                             seed = SEED)\n",
    "\n",
    "ds_val = val_datagen.flow_from_dataframe(val_df,                                            \n",
    "                                            x_col = 'image',\n",
    "                                            y_col = 'class',\n",
    "                                            target_size = (IMG_SIZE, IMG_SIZE),\n",
    "                                            class_mode = 'categorical',\n",
    "                                            batch_size = BATCH,\n",
    "                                            seed = SEED)\n",
    "\n",
    "ds_test = val_datagen.flow_from_dataframe(df_test,\n",
    "                                            x_col = 'image',\n",
    "                                            y_col = 'class',\n",
    "                                            target_size = (IMG_SIZE, IMG_SIZE),\n",
    "                                            class_mode = 'categorical',\n",
    "                                            batch_size = 1,\n",
    "                                            shuffle = False)"
   ]
  },
  {
   "cell_type": "code",
   "execution_count": 8,
   "id": "4dd0867c",
   "metadata": {},
   "outputs": [
    {
     "name": "stdout",
     "output_type": "stream",
     "text": [
      "(4169, 2)\n"
     ]
    }
   ],
   "source": [
    "print(train_df.shape)"
   ]
  },
  {
   "cell_type": "code",
   "execution_count": 9,
   "id": "8a653970",
   "metadata": {},
   "outputs": [],
   "source": [
    "#Setting callbakcs\n",
    "\n",
    "early_stopping = callbacks.EarlyStopping(\n",
    "    monitor='val_loss',\n",
    "    patience=5,\n",
    "    mode='min',\n",
    ")\n"
   ]
  },
  {
   "cell_type": "code",
   "execution_count": 10,
   "id": "58d37757",
   "metadata": {},
   "outputs": [],
   "source": [
    "def get_model():    \n",
    "    #Input shape = [width, height, color channels]\n",
    "    inputs = layers.Input(shape=(IMG_SIZE, IMG_SIZE, 3))\n",
    "    hidden=inputs\n",
    "    \n",
    "    # Block One\n",
    "    hidden = layers.Conv2D(16, padding='valid', kernel_size=(3,3),activation='relu')(hidden)\n",
    "    hidden = layers.MaxPool2D(pool_size=(2,2),strides=(2,2))(hidden)\n",
    "    # Block Two\n",
    "    hidden = layers.Conv2D(32, padding='valid', kernel_size=(3,3),activation='relu')(hidden)\n",
    "    hidden = layers.MaxPool2D(pool_size=(2,2),strides=(2,2))(hidden)\n",
    "    hidden = layers.Dropout(0.2)(hidden)    \n",
    "    # Block Three\n",
    "    hidden = layers.Conv2D(64, padding='valid', kernel_size=(3,3),activation='relu')(hidden)   \n",
    "    hidden = layers.MaxPool2D(pool_size=(2,2),strides=(2,2))(hidden)\n",
    "    hidden = layers.Dropout(0.2)(hidden)    \n",
    "    # Block four\n",
    "    hidden = layers.Conv2D(32, padding='valid', kernel_size=(3,3),activation='relu')(hidden)   \n",
    "    hidden = layers.MaxPool2D(pool_size=(2,2),strides=(2,2))(hidden)\n",
    "    # Head\n",
    "    hidden = layers.Flatten()(hidden)\n",
    "    hidden = layers.Dense(64, activation='relu',kernel_regularizer=regularizers.L2(0.001))(hidden)\n",
    "    hidden = layers.Dropout(0.2)(hidden)    \n",
    "    #Final Layer (Output)\n",
    "    output = layers.Dense(3, activation='softmax')(hidden)     \n",
    "    model = keras.Model(inputs,output)    \n",
    "    return model"
   ]
  },
  {
   "cell_type": "code",
   "execution_count": 11,
   "id": "9e7f741f",
   "metadata": {},
   "outputs": [
    {
     "name": "stdout",
     "output_type": "stream",
     "text": [
      "Model: \"model\"\n",
      "_________________________________________________________________\n",
      " Layer (type)                Output Shape              Param #   \n",
      "=================================================================\n",
      " input_1 (InputLayer)        [(None, 224, 224, 3)]     0         \n",
      "                                                                 \n",
      " conv2d (Conv2D)             (None, 222, 222, 16)      448       \n",
      "                                                                 \n",
      " max_pooling2d (MaxPooling2D  (None, 111, 111, 16)     0         \n",
      " )                                                               \n",
      "                                                                 \n",
      " conv2d_1 (Conv2D)           (None, 109, 109, 32)      4640      \n",
      "                                                                 \n",
      " max_pooling2d_1 (MaxPooling  (None, 54, 54, 32)       0         \n",
      " 2D)                                                             \n",
      "                                                                 \n",
      " dropout (Dropout)           (None, 54, 54, 32)        0         \n",
      "                                                                 \n",
      " conv2d_2 (Conv2D)           (None, 52, 52, 64)        18496     \n",
      "                                                                 \n",
      " max_pooling2d_2 (MaxPooling  (None, 26, 26, 64)       0         \n",
      " 2D)                                                             \n",
      "                                                                 \n",
      " dropout_1 (Dropout)         (None, 26, 26, 64)        0         \n",
      "                                                                 \n",
      " conv2d_3 (Conv2D)           (None, 24, 24, 32)        18464     \n",
      "                                                                 \n",
      " max_pooling2d_3 (MaxPooling  (None, 12, 12, 32)       0         \n",
      " 2D)                                                             \n",
      "                                                                 \n",
      " flatten (Flatten)           (None, 4608)              0         \n",
      "                                                                 \n",
      " dense (Dense)               (None, 64)                294976    \n",
      "                                                                 \n",
      " dropout_2 (Dropout)         (None, 64)                0         \n",
      "                                                                 \n",
      " dense_1 (Dense)             (None, 3)                 195       \n",
      "                                                                 \n",
      "=================================================================\n",
      "Total params: 337,219\n",
      "Trainable params: 337,219\n",
      "Non-trainable params: 0\n",
      "_________________________________________________________________\n"
     ]
    }
   ],
   "source": [
    "from tensorflow.keras import layers\n",
    "from tensorflow.keras import regularizers\n",
    "\n",
    "keras.backend.clear_session()\n",
    "\n",
    "model = get_model()\n",
    "model.compile(loss='categorical_crossentropy'\n",
    "              , optimizer = keras.optimizers.Adam(), metrics='accuracy')\n",
    "\n",
    "model.summary()"
   ]
  },
  {
   "cell_type": "code",
   "execution_count": 13,
   "id": "34f55b0a",
   "metadata": {},
   "outputs": [
    {
     "name": "stdout",
     "output_type": "stream",
     "text": [
      "Epoch 1/50\n",
      "130/130 [==============================] - 139s 1s/step - loss: 1.0970 - accuracy: 0.4788 - val_loss: 0.9415 - val_accuracy: 0.5743\n",
      "Epoch 2/50\n",
      "130/130 [==============================] - 134s 1s/step - loss: 0.8651 - accuracy: 0.5999 - val_loss: 0.6945 - val_accuracy: 0.6903\n",
      "Epoch 3/50\n",
      "130/130 [==============================] - 134s 1s/step - loss: 0.7440 - accuracy: 0.6572 - val_loss: 0.6481 - val_accuracy: 0.6999\n",
      "Epoch 4/50\n",
      "130/130 [==============================] - 133s 1s/step - loss: 0.7200 - accuracy: 0.6678 - val_loss: 0.6186 - val_accuracy: 0.7009\n",
      "Epoch 5/50\n",
      "130/130 [==============================] - 132s 1s/step - loss: 0.6824 - accuracy: 0.6810 - val_loss: 0.6301 - val_accuracy: 0.7028\n",
      "Epoch 6/50\n",
      "130/130 [==============================] - 133s 1s/step - loss: 0.6988 - accuracy: 0.6728 - val_loss: 0.6000 - val_accuracy: 0.7085\n",
      "Epoch 7/50\n",
      "130/130 [==============================] - 133s 1s/step - loss: 0.6682 - accuracy: 0.6882 - val_loss: 0.6430 - val_accuracy: 0.6942\n",
      "Epoch 8/50\n",
      "130/130 [==============================] - 133s 1s/step - loss: 0.6689 - accuracy: 0.6851 - val_loss: 0.5876 - val_accuracy: 0.7162\n",
      "Epoch 9/50\n",
      "130/130 [==============================] - 134s 1s/step - loss: 0.6502 - accuracy: 0.6930 - val_loss: 0.5810 - val_accuracy: 0.7143\n",
      "Epoch 10/50\n",
      "130/130 [==============================] - 134s 1s/step - loss: 0.6373 - accuracy: 0.6985 - val_loss: 0.5797 - val_accuracy: 0.7220\n",
      "Epoch 11/50\n",
      "130/130 [==============================] - 137s 1s/step - loss: 0.6425 - accuracy: 0.7047 - val_loss: 0.5941 - val_accuracy: 0.7114\n",
      "Epoch 12/50\n",
      "130/130 [==============================] - 138s 1s/step - loss: 0.6324 - accuracy: 0.6982 - val_loss: 0.6064 - val_accuracy: 0.7143\n",
      "Epoch 13/50\n",
      "130/130 [==============================] - 164s 1s/step - loss: 0.6438 - accuracy: 0.6963 - val_loss: 0.6272 - val_accuracy: 0.7124\n",
      "Epoch 14/50\n",
      "130/130 [==============================] - 158s 1s/step - loss: 0.6299 - accuracy: 0.7090 - val_loss: 0.5838 - val_accuracy: 0.7162\n",
      "Epoch 15/50\n",
      "130/130 [==============================] - 181s 1s/step - loss: 0.6173 - accuracy: 0.7093 - val_loss: 0.6689 - val_accuracy: 0.6750\n"
     ]
    }
   ],
   "source": [
    "history = model.fit(ds_train,\n",
    "          batch_size = BATCH, \n",
    "          epochs = 50,\n",
    "          validation_data=ds_val,\n",
    "          callbacks=early_stopping,\n",
    "          steps_per_epoch=(len(train_df)/BATCH),\n",
    "          validation_steps=(len(val_df)/BATCH));"
   ]
  },
  {
   "cell_type": "code",
   "execution_count": 28,
   "id": "6a50a9ad",
   "metadata": {},
   "outputs": [],
   "source": [
    "def showScore():\n",
    "    score = model.evaluate(ds_test, steps = len(val_df)/BATCH, verbose = 0)\n",
    "    print('Val loss:', score[0])\n",
    "    print('Val accuracy:', score[1])\n",
    "    best_score = max(history.history['accuracy'])\n",
    "    print('Best score:',best_score)\n",
    "    "
   ]
  },
  {
   "cell_type": "code",
   "execution_count": 22,
   "id": "236ef358",
   "metadata": {},
   "outputs": [
    {
     "name": "stdout",
     "output_type": "stream",
     "text": [
      "Val loss: 0.6689152121543884\n",
      "Val accuracy: 0.6749760508537292\n",
      "Test loss: 0.6621912121772766\n",
      "Test accuracy: 0.690625011920929\n",
      "dict_keys(['loss', 'accuracy', 'val_loss', 'val_accuracy'])\n",
      "0.7092828154563904\n"
     ]
    }
   ],
   "source": [
    "showScore()"
   ]
  },
  {
   "cell_type": "code",
   "execution_count": 25,
   "id": "bf352d6c",
   "metadata": {},
   "outputs": [],
   "source": [
    "early_stopping = callbacks.EarlyStopping(\n",
    "    monitor='val_loss',\n",
    "    patience=4,\n",
    "    mode='min',\n",
    ")"
   ]
  },
  {
   "cell_type": "code",
   "execution_count": 26,
   "id": "c286c6b1",
   "metadata": {},
   "outputs": [
    {
     "name": "stdout",
     "output_type": "stream",
     "text": [
      "Epoch 1/50\n",
      "130/130 [==============================] - 145s 1s/step - loss: 0.6348 - accuracy: 0.7066 - val_loss: 0.5952 - val_accuracy: 0.7105\n",
      "Epoch 2/50\n",
      "130/130 [==============================] - 148s 1s/step - loss: 0.6212 - accuracy: 0.7100 - val_loss: 0.6730 - val_accuracy: 0.6884\n",
      "Epoch 3/50\n",
      "130/130 [==============================] - 147s 1s/step - loss: 0.6216 - accuracy: 0.7042 - val_loss: 0.5823 - val_accuracy: 0.7210\n",
      "Epoch 4/50\n",
      "130/130 [==============================] - 151s 1s/step - loss: 0.6197 - accuracy: 0.7122 - val_loss: 0.5819 - val_accuracy: 0.7162\n",
      "Epoch 5/50\n",
      "130/130 [==============================] - 144s 1s/step - loss: 0.6143 - accuracy: 0.7148 - val_loss: 0.5765 - val_accuracy: 0.7200\n",
      "Epoch 6/50\n",
      "130/130 [==============================] - 159s 1s/step - loss: 0.6078 - accuracy: 0.7122 - val_loss: 0.5783 - val_accuracy: 0.7277\n",
      "Epoch 7/50\n",
      "130/130 [==============================] - 151s 1s/step - loss: 0.5930 - accuracy: 0.7174 - val_loss: 0.5911 - val_accuracy: 0.7325\n",
      "Epoch 8/50\n",
      "130/130 [==============================] - 151s 1s/step - loss: 0.5981 - accuracy: 0.7201 - val_loss: 0.6114 - val_accuracy: 0.7095\n",
      "Epoch 9/50\n",
      "130/130 [==============================] - 178s 1s/step - loss: 0.6018 - accuracy: 0.7134 - val_loss: 0.6049 - val_accuracy: 0.7152\n"
     ]
    }
   ],
   "source": [
    "history = model.fit(ds_train,\n",
    "          batch_size = BATCH, \n",
    "          epochs = 50,\n",
    "          validation_data=ds_val,\n",
    "          callbacks=early_stopping,\n",
    "          steps_per_epoch=(len(train_df)/BATCH),\n",
    "          validation_steps=(len(val_df)/BATCH));"
   ]
  },
  {
   "cell_type": "code",
   "execution_count": 29,
   "id": "c00d2078",
   "metadata": {},
   "outputs": [
    {
     "name": "stdout",
     "output_type": "stream",
     "text": [
      "Val loss: 0.7504679560661316\n",
      "Val accuracy: 0.6969696879386902\n",
      "Best score: 0.7200767397880554\n"
     ]
    }
   ],
   "source": [
    "showScore()"
   ]
  },
  {
   "cell_type": "code",
   "execution_count": 30,
   "id": "1b9a35e2",
   "metadata": {},
   "outputs": [],
   "source": [
    "early_stopping = callbacks.EarlyStopping(\n",
    "    monitor='val_loss',\n",
    "    patience=4,\n",
    "    mode='min',\n",
    ")"
   ]
  },
  {
   "cell_type": "code",
   "execution_count": 31,
   "id": "2e6ae170",
   "metadata": {},
   "outputs": [
    {
     "name": "stdout",
     "output_type": "stream",
     "text": [
      "Epoch 1/50\n",
      "130/130 [==============================] - 182s 1s/step - loss: 0.6099 - accuracy: 0.7124 - val_loss: 0.5685 - val_accuracy: 0.7315\n",
      "Epoch 2/50\n",
      "130/130 [==============================] - 193s 1s/step - loss: 0.5963 - accuracy: 0.7170 - val_loss: 0.5735 - val_accuracy: 0.7239\n",
      "Epoch 3/50\n",
      "130/130 [==============================] - 194s 1s/step - loss: 0.5960 - accuracy: 0.7227 - val_loss: 0.5761 - val_accuracy: 0.7172\n",
      "Epoch 4/50\n",
      "130/130 [==============================] - 181s 1s/step - loss: 0.5927 - accuracy: 0.7244 - val_loss: 0.5700 - val_accuracy: 0.7181\n",
      "Epoch 5/50\n",
      "130/130 [==============================] - 192s 1s/step - loss: 0.5796 - accuracy: 0.7325 - val_loss: 0.5662 - val_accuracy: 0.7277\n",
      "Epoch 6/50\n",
      "130/130 [==============================] - 199s 2s/step - loss: 0.6021 - accuracy: 0.7196 - val_loss: 0.5694 - val_accuracy: 0.7229\n",
      "Epoch 7/50\n",
      "130/130 [==============================] - 171s 1s/step - loss: 0.5809 - accuracy: 0.7239 - val_loss: 0.5782 - val_accuracy: 0.7430\n",
      "Epoch 8/50\n",
      "130/130 [==============================] - 161s 1s/step - loss: 0.5825 - accuracy: 0.7290 - val_loss: 0.5704 - val_accuracy: 0.7354\n",
      "Epoch 9/50\n",
      "130/130 [==============================] - 157s 1s/step - loss: 0.5846 - accuracy: 0.7225 - val_loss: 0.5593 - val_accuracy: 0.7335\n",
      "Epoch 10/50\n",
      "130/130 [==============================] - 137s 1s/step - loss: 0.5762 - accuracy: 0.7297 - val_loss: 0.5690 - val_accuracy: 0.7306\n",
      "Epoch 11/50\n",
      "130/130 [==============================] - 136s 1s/step - loss: 0.5787 - accuracy: 0.7342 - val_loss: 0.5639 - val_accuracy: 0.7354\n",
      "Epoch 12/50\n",
      "130/130 [==============================] - 136s 1s/step - loss: 0.5826 - accuracy: 0.7309 - val_loss: 0.5789 - val_accuracy: 0.7411\n",
      "Epoch 13/50\n",
      "130/130 [==============================] - 135s 1s/step - loss: 0.5830 - accuracy: 0.7333 - val_loss: 0.5979 - val_accuracy: 0.7210\n"
     ]
    }
   ],
   "source": [
    "history = model.fit(ds_train,\n",
    "          batch_size = BATCH, \n",
    "          epochs = 50,\n",
    "          validation_data=ds_val,\n",
    "          callbacks=early_stopping,\n",
    "          steps_per_epoch=(len(train_df)/BATCH),\n",
    "          validation_steps=(len(val_df)/BATCH));"
   ]
  },
  {
   "cell_type": "code",
   "execution_count": 32,
   "id": "acfeca31",
   "metadata": {},
   "outputs": [
    {
     "name": "stdout",
     "output_type": "stream",
     "text": [
      "Val loss: 0.20500215888023376\n",
      "Val accuracy: 0.9696969985961914\n",
      "Best score: 0.7342288494110107\n"
     ]
    }
   ],
   "source": [
    "showScore()"
   ]
  },
  {
   "cell_type": "code",
   "execution_count": 33,
   "id": "1471adab",
   "metadata": {},
   "outputs": [
    {
     "name": "stdout",
     "output_type": "stream",
     "text": [
      "130.28125\n",
      "32.59375\n"
     ]
    }
   ],
   "source": [
    "print(len(train_df)/BATCH)\n",
    "print(len(val_df)/BATCH)"
   ]
  },
  {
   "cell_type": "code",
   "execution_count": 34,
   "id": "6dca5da1",
   "metadata": {},
   "outputs": [],
   "source": [
    "early_stopping = callbacks.EarlyStopping(\n",
    "    monitor='val_loss',\n",
    "    patience=3,\n",
    "    mode='min',\n",
    ")\n"
   ]
  },
  {
   "cell_type": "code",
   "execution_count": 35,
   "id": "1adac2cb",
   "metadata": {},
   "outputs": [
    {
     "name": "stdout",
     "output_type": "stream",
     "text": [
      "Epoch 1/50\n",
      "130/130 [==============================] - 156s 1s/step - loss: 0.5711 - accuracy: 0.7333 - val_loss: 0.5630 - val_accuracy: 0.7296\n",
      "Epoch 2/50\n",
      "130/130 [==============================] - 160s 1s/step - loss: 0.5804 - accuracy: 0.7330 - val_loss: 0.5794 - val_accuracy: 0.7191\n",
      "Epoch 3/50\n",
      "130/130 [==============================] - 138s 1s/step - loss: 0.5691 - accuracy: 0.7304 - val_loss: 0.5637 - val_accuracy: 0.7306\n",
      "Epoch 4/50\n",
      "130/130 [==============================] - 135s 1s/step - loss: 0.5841 - accuracy: 0.7275 - val_loss: 0.5584 - val_accuracy: 0.7354\n",
      "Epoch 5/50\n",
      "130/130 [==============================] - 170s 1s/step - loss: 0.5783 - accuracy: 0.7347 - val_loss: 0.5629 - val_accuracy: 0.7267\n",
      "Epoch 6/50\n",
      "130/130 [==============================] - 169s 1s/step - loss: 0.5739 - accuracy: 0.7361 - val_loss: 0.5669 - val_accuracy: 0.7383\n",
      "Epoch 7/50\n",
      "130/130 [==============================] - 158s 1s/step - loss: 0.5670 - accuracy: 0.7429 - val_loss: 0.6098 - val_accuracy: 0.7181\n"
     ]
    }
   ],
   "source": [
    "history = model.fit(ds_train,\n",
    "          batch_size = BATCH, \n",
    "          epochs = 50,\n",
    "          validation_data=ds_val,\n",
    "          callbacks=early_stopping,\n",
    "          steps_per_epoch=(len(train_df)/BATCH),\n",
    "          validation_steps=(len(val_df)/BATCH));"
   ]
  },
  {
   "cell_type": "code",
   "execution_count": 36,
   "id": "7724f395",
   "metadata": {},
   "outputs": [
    {
     "name": "stdout",
     "output_type": "stream",
     "text": [
      "Val loss: 0.853921115398407\n",
      "Val accuracy: 0.6363636255264282\n",
      "Best score: 0.7428640127182007\n"
     ]
    }
   ],
   "source": [
    "showScore()"
   ]
  },
  {
   "cell_type": "code",
   "execution_count": 40,
   "id": "2be88daf",
   "metadata": {},
   "outputs": [],
   "source": [
    "def get_model():    \n",
    "    \n",
    "    inputs = layers.Input(shape=(IMG_SIZE, IMG_SIZE, 3))\n",
    "    hidden=inputs\n",
    "    \n",
    "    \n",
    "    hidden = layers.Conv2D(16, padding='valid', kernel_size=(3,3),activation='relu')(hidden)\n",
    "    hidden = layers.MaxPool2D(pool_size=(2,2),strides=(2,2))(hidden)\n",
    "    \n",
    "    hidden = layers.Conv2D(32, padding='valid', kernel_size=(3,3),activation='relu')(hidden)\n",
    "    hidden = layers.MaxPool2D(pool_size=(2,2),strides=(2,2))(hidden)\n",
    "      \n",
    "    \n",
    "    hidden = layers.Conv2D(64, padding='valid', kernel_size=(3,3),activation='relu')(hidden)   \n",
    "    hidden = layers.MaxPool2D(pool_size=(2,2),strides=(2,2))(hidden)\n",
    "    hidden = layers.Dropout(0.2)(hidden)    \n",
    "    \n",
    "    hidden = layers.Conv2D(64, padding='valid', kernel_size=(3,3),activation='relu')(hidden)   \n",
    "    hidden = layers.MaxPool2D(pool_size=(2,2),strides=(2,2))(hidden)\n",
    "    \n",
    "    hidden = layers.Conv2D(32, padding='valid', kernel_size=(3,3),activation='relu')(hidden)   \n",
    "    hidden = layers.MaxPool2D(pool_size=(2,2),strides=(2,2))(hidden)\n",
    "    \n",
    "    hidden = layers.Flatten()(hidden)\n",
    "    hidden = layers.Dense(64, activation='relu',kernel_regularizer=regularizers.L2(0.0001))(hidden)\n",
    "    hidden = layers.Dropout(0.2)(hidden)    \n",
    "    \n",
    "    output = layers.Dense(3, activation='softmax')(hidden)     \n",
    "    model = keras.Model(inputs,output)    \n",
    "    return model"
   ]
  },
  {
   "cell_type": "code",
   "execution_count": 41,
   "id": "074634f9",
   "metadata": {},
   "outputs": [
    {
     "name": "stdout",
     "output_type": "stream",
     "text": [
      "Model: \"model_2\"\n",
      "_________________________________________________________________\n",
      " Layer (type)                Output Shape              Param #   \n",
      "=================================================================\n",
      " input_3 (InputLayer)        [(None, 224, 224, 3)]     0         \n",
      "                                                                 \n",
      " conv2d_9 (Conv2D)           (None, 222, 222, 16)      448       \n",
      "                                                                 \n",
      " max_pooling2d_9 (MaxPooling  (None, 111, 111, 16)     0         \n",
      " 2D)                                                             \n",
      "                                                                 \n",
      " conv2d_10 (Conv2D)          (None, 109, 109, 32)      4640      \n",
      "                                                                 \n",
      " max_pooling2d_10 (MaxPoolin  (None, 54, 54, 32)       0         \n",
      " g2D)                                                            \n",
      "                                                                 \n",
      " conv2d_11 (Conv2D)          (None, 52, 52, 64)        18496     \n",
      "                                                                 \n",
      " max_pooling2d_11 (MaxPoolin  (None, 26, 26, 64)       0         \n",
      " g2D)                                                            \n",
      "                                                                 \n",
      " dropout_5 (Dropout)         (None, 26, 26, 64)        0         \n",
      "                                                                 \n",
      " conv2d_12 (Conv2D)          (None, 24, 24, 64)        36928     \n",
      "                                                                 \n",
      " max_pooling2d_12 (MaxPoolin  (None, 12, 12, 64)       0         \n",
      " g2D)                                                            \n",
      "                                                                 \n",
      " conv2d_13 (Conv2D)          (None, 10, 10, 32)        18464     \n",
      "                                                                 \n",
      " max_pooling2d_13 (MaxPoolin  (None, 5, 5, 32)         0         \n",
      " g2D)                                                            \n",
      "                                                                 \n",
      " flatten_2 (Flatten)         (None, 800)               0         \n",
      "                                                                 \n",
      " dense_4 (Dense)             (None, 64)                51264     \n",
      "                                                                 \n",
      " dropout_6 (Dropout)         (None, 64)                0         \n",
      "                                                                 \n",
      " dense_5 (Dense)             (None, 3)                 195       \n",
      "                                                                 \n",
      "=================================================================\n",
      "Total params: 130,435\n",
      "Trainable params: 130,435\n",
      "Non-trainable params: 0\n",
      "_________________________________________________________________\n"
     ]
    }
   ],
   "source": [
    "model = get_model()\n",
    "model.compile(loss='categorical_crossentropy'\n",
    "              , optimizer = keras.optimizers.Adam(), metrics='accuracy')\n",
    "\n",
    "model.summary()"
   ]
  },
  {
   "cell_type": "code",
   "execution_count": 43,
   "id": "6baa079c",
   "metadata": {},
   "outputs": [
    {
     "name": "stdout",
     "output_type": "stream",
     "text": [
      "Epoch 1/50\n",
      "130/130 [==============================] - 155s 1s/step - loss: 1.0349 - accuracy: 0.5114 - val_loss: 0.9633 - val_accuracy: 0.5992\n",
      "Epoch 2/50\n",
      "130/130 [==============================] - 147s 1s/step - loss: 0.7937 - accuracy: 0.6306 - val_loss: 0.6741 - val_accuracy: 0.6836\n",
      "Epoch 3/50\n",
      "130/130 [==============================] - 147s 1s/step - loss: 0.7058 - accuracy: 0.6673 - val_loss: 0.6262 - val_accuracy: 0.7095\n",
      "Epoch 4/50\n",
      "130/130 [==============================] - 155s 1s/step - loss: 0.6549 - accuracy: 0.6863 - val_loss: 0.5797 - val_accuracy: 0.7143\n",
      "Epoch 5/50\n",
      "130/130 [==============================] - 165s 1s/step - loss: 0.6385 - accuracy: 0.6901 - val_loss: 0.5602 - val_accuracy: 0.7220\n",
      "Epoch 6/50\n",
      "130/130 [==============================] - 162s 1s/step - loss: 0.6335 - accuracy: 0.6908 - val_loss: 0.5562 - val_accuracy: 0.7229\n",
      "Epoch 7/50\n",
      "130/130 [==============================] - 142s 1s/step - loss: 0.6091 - accuracy: 0.7028 - val_loss: 0.5465 - val_accuracy: 0.7296\n",
      "Epoch 8/50\n",
      "130/130 [==============================] - 161s 1s/step - loss: 0.6029 - accuracy: 0.7021 - val_loss: 0.5362 - val_accuracy: 0.7277\n",
      "Epoch 9/50\n",
      "130/130 [==============================] - 184s 1s/step - loss: 0.6009 - accuracy: 0.7030 - val_loss: 0.5702 - val_accuracy: 0.7028\n",
      "Epoch 10/50\n",
      "130/130 [==============================] - 180s 1s/step - loss: 0.6001 - accuracy: 0.6994 - val_loss: 0.5377 - val_accuracy: 0.7296\n",
      "Epoch 11/50\n",
      "130/130 [==============================] - 149s 1s/step - loss: 0.5925 - accuracy: 0.7078 - val_loss: 0.5307 - val_accuracy: 0.7354\n",
      "Epoch 12/50\n",
      "130/130 [==============================] - 151s 1s/step - loss: 0.5837 - accuracy: 0.7095 - val_loss: 0.5527 - val_accuracy: 0.7315\n",
      "Epoch 13/50\n",
      "130/130 [==============================] - 146s 1s/step - loss: 0.5972 - accuracy: 0.7078 - val_loss: 0.5303 - val_accuracy: 0.7411\n",
      "Epoch 14/50\n",
      "130/130 [==============================] - 128s 982ms/step - loss: 0.5652 - accuracy: 0.7218 - val_loss: 0.5463 - val_accuracy: 0.7344\n",
      "Epoch 15/50\n",
      "130/130 [==============================] - 126s 968ms/step - loss: 0.5693 - accuracy: 0.7194 - val_loss: 0.5553 - val_accuracy: 0.7277\n",
      "Epoch 16/50\n",
      "130/130 [==============================] - 126s 970ms/step - loss: 0.5709 - accuracy: 0.7182 - val_loss: 0.5145 - val_accuracy: 0.7411\n",
      "Epoch 17/50\n",
      "130/130 [==============================] - 127s 972ms/step - loss: 0.5570 - accuracy: 0.7246 - val_loss: 0.5283 - val_accuracy: 0.7498\n",
      "Epoch 18/50\n",
      "130/130 [==============================] - 126s 969ms/step - loss: 0.5597 - accuracy: 0.7263 - val_loss: 0.5413 - val_accuracy: 0.7220\n",
      "Epoch 19/50\n",
      "130/130 [==============================] - 127s 971ms/step - loss: 0.5509 - accuracy: 0.7256 - val_loss: 0.5232 - val_accuracy: 0.7430\n"
     ]
    }
   ],
   "source": [
    "history = model.fit(ds_train,\n",
    "          batch_size = BATCH, \n",
    "          epochs = 50,\n",
    "          validation_data=ds_val,\n",
    "          callbacks = early_stopping,\n",
    "          steps_per_epoch=(len(train_df)/BATCH),\n",
    "          validation_steps=(len(val_df)/BATCH));"
   ]
  },
  {
   "cell_type": "code",
   "execution_count": null,
   "id": "13e23841",
   "metadata": {},
   "outputs": [],
   "source": []
  },
  {
   "cell_type": "code",
   "execution_count": 44,
   "id": "1389857d",
   "metadata": {},
   "outputs": [
    {
     "name": "stdout",
     "output_type": "stream",
     "text": [
      "Val loss: 0.6171468496322632\n",
      "Val accuracy: 0.7272727489471436\n",
      "Best score: 0.7263132929801941\n"
     ]
    }
   ],
   "source": [
    "showScore()"
   ]
  },
  {
   "cell_type": "code",
   "execution_count": null,
   "id": "872cb658",
   "metadata": {},
   "outputs": [],
   "source": []
  },
  {
   "cell_type": "code",
   "execution_count": 45,
   "id": "fdf808c7",
   "metadata": {},
   "outputs": [],
   "source": [
    "def get_model():    \n",
    "    #Input shape = [width, height, color channels]\n",
    "    inputs = layers.Input(shape=(IMG_SIZE, IMG_SIZE, 3))\n",
    "    hidden=inputs\n",
    "    \n",
    "    \n",
    "    hidden = layers.Conv2D(32, padding='valid', kernel_size=(3,3),activation='relu')(hidden)\n",
    "    hidden = layers.MaxPool2D(pool_size=(2,2),strides=(2,2))(hidden)\n",
    "    \n",
    "    hidden = layers.Conv2D(32, padding='valid', kernel_size=(3,3),activation='relu')(hidden)\n",
    "    hidden = layers.MaxPool2D(pool_size=(2,2),strides=(2,2))(hidden)\n",
    "    hidden = layers.Dropout(0.2)(hidden)\n",
    "      \n",
    "    \n",
    "    hidden = layers.Conv2D(64, padding='valid', kernel_size=(3,3),activation='relu')(hidden)   \n",
    "    hidden = layers.MaxPool2D(pool_size=(2,2),strides=(2,2))(hidden)    \n",
    "    \n",
    "    hidden = layers.Conv2D(64, padding='valid', kernel_size=(3,3),activation='relu')(hidden)   \n",
    "    hidden = layers.MaxPool2D(pool_size=(2,2),strides=(2,2))(hidden)\n",
    "    \n",
    "    hidden = layers.Conv2D(32, padding='valid', kernel_size=(3,3),activation='relu')(hidden)   \n",
    "    hidden = layers.MaxPool2D(pool_size=(2,2),strides=(2,2))(hidden)\n",
    "    \n",
    "    hidden = layers.Flatten()(hidden)\n",
    "    hidden = layers.Dense(64, activation='relu',kernel_regularizer=regularizers.L2(0.0001))(hidden)\n",
    "    hidden = layers.Dropout(0.2)(hidden)    \n",
    "    \n",
    "    output = layers.Dense(3, activation='softmax')(hidden)     \n",
    "    model = keras.Model(inputs,output)    \n",
    "    return model"
   ]
  },
  {
   "cell_type": "code",
   "execution_count": 46,
   "id": "50326fd5",
   "metadata": {},
   "outputs": [
    {
     "name": "stdout",
     "output_type": "stream",
     "text": [
      "Model: \"model_3\"\n",
      "_________________________________________________________________\n",
      " Layer (type)                Output Shape              Param #   \n",
      "=================================================================\n",
      " input_4 (InputLayer)        [(None, 224, 224, 3)]     0         \n",
      "                                                                 \n",
      " conv2d_14 (Conv2D)          (None, 222, 222, 32)      896       \n",
      "                                                                 \n",
      " max_pooling2d_14 (MaxPoolin  (None, 111, 111, 32)     0         \n",
      " g2D)                                                            \n",
      "                                                                 \n",
      " conv2d_15 (Conv2D)          (None, 109, 109, 32)      9248      \n",
      "                                                                 \n",
      " max_pooling2d_15 (MaxPoolin  (None, 54, 54, 32)       0         \n",
      " g2D)                                                            \n",
      "                                                                 \n",
      " dropout_7 (Dropout)         (None, 54, 54, 32)        0         \n",
      "                                                                 \n",
      " conv2d_16 (Conv2D)          (None, 52, 52, 64)        18496     \n",
      "                                                                 \n",
      " max_pooling2d_16 (MaxPoolin  (None, 26, 26, 64)       0         \n",
      " g2D)                                                            \n",
      "                                                                 \n",
      " conv2d_17 (Conv2D)          (None, 24, 24, 64)        36928     \n",
      "                                                                 \n",
      " max_pooling2d_17 (MaxPoolin  (None, 12, 12, 64)       0         \n",
      " g2D)                                                            \n",
      "                                                                 \n",
      " conv2d_18 (Conv2D)          (None, 10, 10, 32)        18464     \n",
      "                                                                 \n",
      " max_pooling2d_18 (MaxPoolin  (None, 5, 5, 32)         0         \n",
      " g2D)                                                            \n",
      "                                                                 \n",
      " flatten_3 (Flatten)         (None, 800)               0         \n",
      "                                                                 \n",
      " dense_6 (Dense)             (None, 64)                51264     \n",
      "                                                                 \n",
      " dropout_8 (Dropout)         (None, 64)                0         \n",
      "                                                                 \n",
      " dense_7 (Dense)             (None, 3)                 195       \n",
      "                                                                 \n",
      "=================================================================\n",
      "Total params: 135,491\n",
      "Trainable params: 135,491\n",
      "Non-trainable params: 0\n",
      "_________________________________________________________________\n"
     ]
    }
   ],
   "source": [
    "model = get_model()\n",
    "model.compile(loss='categorical_crossentropy'\n",
    "              , optimizer = keras.optimizers.Adam(), metrics='accuracy')\n",
    "\n",
    "model.summary()"
   ]
  },
  {
   "cell_type": "code",
   "execution_count": 48,
   "id": "5ac95385",
   "metadata": {},
   "outputs": [
    {
     "name": "stdout",
     "output_type": "stream",
     "text": [
      "Epoch 1/50\n",
      "130/130 [==============================] - 181s 1s/step - loss: 1.0703 - accuracy: 0.4845 - val_loss: 1.0622 - val_accuracy: 0.4851\n",
      "Epoch 2/50\n",
      "130/130 [==============================] - 165s 1s/step - loss: 1.0120 - accuracy: 0.5243 - val_loss: 0.9018 - val_accuracy: 0.6194\n",
      "Epoch 3/50\n",
      "130/130 [==============================] - 166s 1s/step - loss: 0.8002 - accuracy: 0.6239 - val_loss: 0.6847 - val_accuracy: 0.6826\n",
      "Epoch 4/50\n",
      "130/130 [==============================] - 165s 1s/step - loss: 0.7113 - accuracy: 0.6651 - val_loss: 0.6498 - val_accuracy: 0.6942\n",
      "Epoch 5/50\n",
      "130/130 [==============================] - 163s 1s/step - loss: 0.6827 - accuracy: 0.6719 - val_loss: 0.6056 - val_accuracy: 0.7114\n",
      "Epoch 6/50\n",
      "130/130 [==============================] - 163s 1s/step - loss: 0.6564 - accuracy: 0.6812 - val_loss: 0.6101 - val_accuracy: 0.7028\n",
      "Epoch 7/50\n",
      "130/130 [==============================] - 163s 1s/step - loss: 0.6456 - accuracy: 0.6831 - val_loss: 0.6085 - val_accuracy: 0.7066\n",
      "Epoch 8/50\n",
      "130/130 [==============================] - 162s 1s/step - loss: 0.6314 - accuracy: 0.6951 - val_loss: 0.5799 - val_accuracy: 0.7220\n",
      "Epoch 9/50\n",
      "130/130 [==============================] - 162s 1s/step - loss: 0.6253 - accuracy: 0.6951 - val_loss: 0.6013 - val_accuracy: 0.7191\n",
      "Epoch 10/50\n",
      "130/130 [==============================] - 162s 1s/step - loss: 0.6204 - accuracy: 0.7011 - val_loss: 0.5729 - val_accuracy: 0.7258\n",
      "Epoch 11/50\n",
      "130/130 [==============================] - 163s 1s/step - loss: 0.5944 - accuracy: 0.7050 - val_loss: 0.5855 - val_accuracy: 0.7210\n",
      "Epoch 12/50\n",
      "130/130 [==============================] - 167s 1s/step - loss: 0.6071 - accuracy: 0.7033 - val_loss: 0.5995 - val_accuracy: 0.7277\n",
      "Epoch 13/50\n",
      "130/130 [==============================] - 164s 1s/step - loss: 0.5935 - accuracy: 0.7146 - val_loss: 0.5919 - val_accuracy: 0.7287\n"
     ]
    }
   ],
   "source": [
    "history = model.fit(ds_train,\n",
    "          batch_size = BATCH, \n",
    "          epochs = 50,\n",
    "          validation_data=ds_val,\n",
    "          callbacks=early_stopping,\n",
    "          steps_per_epoch=(len(train_df)/BATCH),\n",
    "          validation_steps=(len(val_df)/BATCH));"
   ]
  },
  {
   "cell_type": "code",
   "execution_count": 49,
   "id": "403587ec",
   "metadata": {},
   "outputs": [
    {
     "name": "stdout",
     "output_type": "stream",
     "text": [
      "Val loss: 0.4177037179470062\n",
      "Val accuracy: 0.8787878751754761\n",
      "Best score: 0.7145598530769348\n"
     ]
    }
   ],
   "source": [
    "showScore()"
   ]
  },
  {
   "cell_type": "code",
   "execution_count": 55,
   "id": "efb22d0e",
   "metadata": {},
   "outputs": [
    {
     "name": "stdout",
     "output_type": "stream",
     "text": [
      "Epoch 1/50\n",
      "100/100 [==============================] - ETA: 0s - loss: 0.5829 - accuracy: 0.7170WARNING:tensorflow:Your input ran out of data; interrupting training. Make sure that your dataset or generator can generate at least `steps_per_epoch * epochs` batches (in this case, 64 batches). You may need to use the repeat() function when building your dataset.\n",
      "100/100 [==============================] - 145s 1s/step - loss: 0.5829 - accuracy: 0.7170 - val_loss: 0.5668 - val_accuracy: 0.7114\n",
      "Epoch 2/50\n",
      "100/100 [==============================] - ETA: 0s - loss: 0.5697 - accuracy: 0.7199WARNING:tensorflow:Early stopping conditioned on metric `val_loss` which is not available. Available metrics are: loss,accuracy\n",
      "100/100 [==============================] - 118s 1s/step - loss: 0.5697 - accuracy: 0.7199\n",
      "Epoch 3/50\n",
      "100/100 [==============================] - ETA: 0s - loss: 0.5652 - accuracy: 0.7237WARNING:tensorflow:Early stopping conditioned on metric `val_loss` which is not available. Available metrics are: loss,accuracy\n",
      "100/100 [==============================] - 117s 1s/step - loss: 0.5652 - accuracy: 0.7237\n",
      "Epoch 4/50\n",
      "100/100 [==============================] - ETA: 0s - loss: 0.5683 - accuracy: 0.7247WARNING:tensorflow:Early stopping conditioned on metric `val_loss` which is not available. Available metrics are: loss,accuracy\n",
      "100/100 [==============================] - 126s 1s/step - loss: 0.5683 - accuracy: 0.7247\n",
      "Epoch 5/50\n",
      "100/100 [==============================] - ETA: 0s - loss: 0.5642 - accuracy: 0.7271WARNING:tensorflow:Early stopping conditioned on metric `val_loss` which is not available. Available metrics are: loss,accuracy\n",
      "100/100 [==============================] - 133s 1s/step - loss: 0.5642 - accuracy: 0.7271\n",
      "Epoch 6/50\n",
      "100/100 [==============================] - ETA: 0s - loss: 0.5502 - accuracy: 0.7412WARNING:tensorflow:Early stopping conditioned on metric `val_loss` which is not available. Available metrics are: loss,accuracy\n",
      "100/100 [==============================] - 131s 1s/step - loss: 0.5502 - accuracy: 0.7412\n",
      "Epoch 7/50\n",
      "100/100 [==============================] - ETA: 0s - loss: 0.5510 - accuracy: 0.7362WARNING:tensorflow:Early stopping conditioned on metric `val_loss` which is not available. Available metrics are: loss,accuracy\n",
      "100/100 [==============================] - 113s 1s/step - loss: 0.5510 - accuracy: 0.7362\n",
      "Epoch 8/50\n",
      "100/100 [==============================] - ETA: 0s - loss: 0.5619 - accuracy: 0.7236WARNING:tensorflow:Early stopping conditioned on metric `val_loss` which is not available. Available metrics are: loss,accuracy\n",
      "100/100 [==============================] - 113s 1s/step - loss: 0.5619 - accuracy: 0.7236\n",
      "Epoch 9/50\n",
      "100/100 [==============================] - ETA: 0s - loss: 0.5511 - accuracy: 0.7309WARNING:tensorflow:Early stopping conditioned on metric `val_loss` which is not available. Available metrics are: loss,accuracy\n",
      "100/100 [==============================] - 114s 1s/step - loss: 0.5511 - accuracy: 0.7309\n",
      "Epoch 10/50\n",
      "100/100 [==============================] - ETA: 0s - loss: 0.5488 - accuracy: 0.7353WARNING:tensorflow:Early stopping conditioned on metric `val_loss` which is not available. Available metrics are: loss,accuracy\n",
      "100/100 [==============================] - 115s 1s/step - loss: 0.5488 - accuracy: 0.7353\n",
      "Epoch 11/50\n",
      "100/100 [==============================] - ETA: 0s - loss: 0.5491 - accuracy: 0.7321WARNING:tensorflow:Early stopping conditioned on metric `val_loss` which is not available. Available metrics are: loss,accuracy\n",
      "100/100 [==============================] - 114s 1s/step - loss: 0.5491 - accuracy: 0.7321\n",
      "Epoch 12/50\n",
      "100/100 [==============================] - ETA: 0s - loss: 0.5442 - accuracy: 0.7337WARNING:tensorflow:Early stopping conditioned on metric `val_loss` which is not available. Available metrics are: loss,accuracy\n",
      "100/100 [==============================] - 113s 1s/step - loss: 0.5442 - accuracy: 0.7337\n",
      "Epoch 13/50\n",
      "100/100 [==============================] - ETA: 0s - loss: 0.5497 - accuracy: 0.7365WARNING:tensorflow:Early stopping conditioned on metric `val_loss` which is not available. Available metrics are: loss,accuracy\n",
      "100/100 [==============================] - 113s 1s/step - loss: 0.5497 - accuracy: 0.7365\n",
      "Epoch 14/50\n",
      "100/100 [==============================] - ETA: 0s - loss: 0.5372 - accuracy: 0.7387WARNING:tensorflow:Early stopping conditioned on metric `val_loss` which is not available. Available metrics are: loss,accuracy\n",
      "100/100 [==============================] - 114s 1s/step - loss: 0.5372 - accuracy: 0.7387\n",
      "Epoch 15/50\n",
      "100/100 [==============================] - ETA: 0s - loss: 0.5295 - accuracy: 0.7466WARNING:tensorflow:Early stopping conditioned on metric `val_loss` which is not available. Available metrics are: loss,accuracy\n",
      "100/100 [==============================] - 113s 1s/step - loss: 0.5295 - accuracy: 0.7466\n",
      "Epoch 16/50\n",
      "100/100 [==============================] - ETA: 0s - loss: 0.5504 - accuracy: 0.7391WARNING:tensorflow:Early stopping conditioned on metric `val_loss` which is not available. Available metrics are: loss,accuracy\n",
      "100/100 [==============================] - 114s 1s/step - loss: 0.5504 - accuracy: 0.7391\n",
      "Epoch 17/50\n",
      "100/100 [==============================] - ETA: 0s - loss: 0.5433 - accuracy: 0.7340WARNING:tensorflow:Early stopping conditioned on metric `val_loss` which is not available. Available metrics are: loss,accuracy\n",
      "100/100 [==============================] - 114s 1s/step - loss: 0.5433 - accuracy: 0.7340\n",
      "Epoch 18/50\n",
      "100/100 [==============================] - ETA: 0s - loss: 0.5315 - accuracy: 0.7438WARNING:tensorflow:Early stopping conditioned on metric `val_loss` which is not available. Available metrics are: loss,accuracy\n",
      "100/100 [==============================] - 114s 1s/step - loss: 0.5315 - accuracy: 0.7438\n",
      "Epoch 19/50\n",
      "100/100 [==============================] - ETA: 0s - loss: 0.5160 - accuracy: 0.7453WARNING:tensorflow:Early stopping conditioned on metric `val_loss` which is not available. Available metrics are: loss,accuracy\n",
      "100/100 [==============================] - 115s 1s/step - loss: 0.5160 - accuracy: 0.7453\n",
      "Epoch 20/50\n",
      "100/100 [==============================] - ETA: 0s - loss: 0.5239 - accuracy: 0.7517WARNING:tensorflow:Early stopping conditioned on metric `val_loss` which is not available. Available metrics are: loss,accuracy\n",
      "100/100 [==============================] - 114s 1s/step - loss: 0.5239 - accuracy: 0.7517\n",
      "Epoch 21/50\n",
      "100/100 [==============================] - ETA: 0s - loss: 0.5130 - accuracy: 0.7668WARNING:tensorflow:Early stopping conditioned on metric `val_loss` which is not available. Available metrics are: loss,accuracy\n",
      "100/100 [==============================] - 114s 1s/step - loss: 0.5130 - accuracy: 0.7668\n",
      "Epoch 22/50\n",
      "100/100 [==============================] - ETA: 0s - loss: 0.5313 - accuracy: 0.7498WARNING:tensorflow:Early stopping conditioned on metric `val_loss` which is not available. Available metrics are: loss,accuracy\n",
      "100/100 [==============================] - 115s 1s/step - loss: 0.5313 - accuracy: 0.7498\n",
      "Epoch 23/50\n",
      "100/100 [==============================] - ETA: 0s - loss: 0.5247 - accuracy: 0.7523WARNING:tensorflow:Early stopping conditioned on metric `val_loss` which is not available. Available metrics are: loss,accuracy\n",
      "100/100 [==============================] - 115s 1s/step - loss: 0.5247 - accuracy: 0.7523\n",
      "Epoch 24/50\n",
      "100/100 [==============================] - ETA: 0s - loss: 0.5201 - accuracy: 0.7578WARNING:tensorflow:Early stopping conditioned on metric `val_loss` which is not available. Available metrics are: loss,accuracy\n",
      "100/100 [==============================] - 115s 1s/step - loss: 0.5201 - accuracy: 0.7578\n",
      "Epoch 25/50\n",
      "100/100 [==============================] - ETA: 0s - loss: 0.5096 - accuracy: 0.7581WARNING:tensorflow:Early stopping conditioned on metric `val_loss` which is not available. Available metrics are: loss,accuracy\n",
      "100/100 [==============================] - 117s 1s/step - loss: 0.5096 - accuracy: 0.7581\n",
      "Epoch 26/50\n",
      "100/100 [==============================] - ETA: 0s - loss: 0.5086 - accuracy: 0.7570WARNING:tensorflow:Early stopping conditioned on metric `val_loss` which is not available. Available metrics are: loss,accuracy\n"
     ]
    },
    {
     "name": "stdout",
     "output_type": "stream",
     "text": [
      "100/100 [==============================] - 115s 1s/step - loss: 0.5086 - accuracy: 0.7570\n",
      "Epoch 27/50\n",
      "100/100 [==============================] - ETA: 0s - loss: 0.5148 - accuracy: 0.7608WARNING:tensorflow:Early stopping conditioned on metric `val_loss` which is not available. Available metrics are: loss,accuracy\n",
      "100/100 [==============================] - 116s 1s/step - loss: 0.5148 - accuracy: 0.7608\n",
      "Epoch 28/50\n",
      "100/100 [==============================] - ETA: 0s - loss: 0.5168 - accuracy: 0.7494WARNING:tensorflow:Early stopping conditioned on metric `val_loss` which is not available. Available metrics are: loss,accuracy\n",
      "100/100 [==============================] - 116s 1s/step - loss: 0.5168 - accuracy: 0.7494\n",
      "Epoch 29/50\n",
      "100/100 [==============================] - ETA: 0s - loss: 0.5172 - accuracy: 0.7539WARNING:tensorflow:Early stopping conditioned on metric `val_loss` which is not available. Available metrics are: loss,accuracy\n",
      "100/100 [==============================] - 115s 1s/step - loss: 0.5172 - accuracy: 0.7539\n",
      "Epoch 30/50\n",
      "100/100 [==============================] - ETA: 0s - loss: 0.4996 - accuracy: 0.7586WARNING:tensorflow:Early stopping conditioned on metric `val_loss` which is not available. Available metrics are: loss,accuracy\n",
      "100/100 [==============================] - 115s 1s/step - loss: 0.4996 - accuracy: 0.7586\n",
      "Epoch 31/50\n",
      "100/100 [==============================] - ETA: 0s - loss: 0.5148 - accuracy: 0.7592WARNING:tensorflow:Early stopping conditioned on metric `val_loss` which is not available. Available metrics are: loss,accuracy\n",
      "100/100 [==============================] - 115s 1s/step - loss: 0.5148 - accuracy: 0.7592\n",
      "Epoch 32/50\n",
      "100/100 [==============================] - ETA: 0s - loss: 0.5117 - accuracy: 0.7570WARNING:tensorflow:Early stopping conditioned on metric `val_loss` which is not available. Available metrics are: loss,accuracy\n",
      "100/100 [==============================] - 115s 1s/step - loss: 0.5117 - accuracy: 0.7570\n",
      "Epoch 33/50\n",
      "100/100 [==============================] - ETA: 0s - loss: 0.5134 - accuracy: 0.7498WARNING:tensorflow:Early stopping conditioned on metric `val_loss` which is not available. Available metrics are: loss,accuracy\n",
      "100/100 [==============================] - 115s 1s/step - loss: 0.5134 - accuracy: 0.7498\n",
      "Epoch 34/50\n",
      "100/100 [==============================] - ETA: 0s - loss: 0.4925 - accuracy: 0.7684WARNING:tensorflow:Early stopping conditioned on metric `val_loss` which is not available. Available metrics are: loss,accuracy\n",
      "100/100 [==============================] - 116s 1s/step - loss: 0.4925 - accuracy: 0.7684\n",
      "Epoch 35/50\n",
      "100/100 [==============================] - ETA: 0s - loss: 0.4882 - accuracy: 0.7684WARNING:tensorflow:Early stopping conditioned on metric `val_loss` which is not available. Available metrics are: loss,accuracy\n",
      "100/100 [==============================] - 116s 1s/step - loss: 0.4882 - accuracy: 0.7684\n",
      "Epoch 36/50\n",
      "100/100 [==============================] - ETA: 0s - loss: 0.4902 - accuracy: 0.7627WARNING:tensorflow:Early stopping conditioned on metric `val_loss` which is not available. Available metrics are: loss,accuracy\n",
      "100/100 [==============================] - 115s 1s/step - loss: 0.4902 - accuracy: 0.7627\n",
      "Epoch 37/50\n",
      "100/100 [==============================] - ETA: 0s - loss: 0.4988 - accuracy: 0.7567WARNING:tensorflow:Early stopping conditioned on metric `val_loss` which is not available. Available metrics are: loss,accuracy\n",
      "100/100 [==============================] - 115s 1s/step - loss: 0.4988 - accuracy: 0.7567\n",
      "Epoch 38/50\n",
      "100/100 [==============================] - ETA: 0s - loss: 0.4800 - accuracy: 0.7728WARNING:tensorflow:Early stopping conditioned on metric `val_loss` which is not available. Available metrics are: loss,accuracy\n",
      "100/100 [==============================] - 121s 1s/step - loss: 0.4800 - accuracy: 0.7728\n",
      "Epoch 39/50\n",
      "100/100 [==============================] - ETA: 0s - loss: 0.4962 - accuracy: 0.7636WARNING:tensorflow:Early stopping conditioned on metric `val_loss` which is not available. Available metrics are: loss,accuracy\n",
      "100/100 [==============================] - 143s 1s/step - loss: 0.4962 - accuracy: 0.7636\n",
      "Epoch 40/50\n",
      "100/100 [==============================] - ETA: 0s - loss: 0.4886 - accuracy: 0.7652WARNING:tensorflow:Early stopping conditioned on metric `val_loss` which is not available. Available metrics are: loss,accuracy\n",
      "100/100 [==============================] - 135s 1s/step - loss: 0.4886 - accuracy: 0.7652\n",
      "Epoch 41/50\n",
      "100/100 [==============================] - ETA: 0s - loss: 0.4870 - accuracy: 0.7693WARNING:tensorflow:Early stopping conditioned on metric `val_loss` which is not available. Available metrics are: loss,accuracy\n",
      "100/100 [==============================] - 136s 1s/step - loss: 0.4870 - accuracy: 0.7693\n",
      "Epoch 42/50\n",
      "100/100 [==============================] - ETA: 0s - loss: 0.4893 - accuracy: 0.7683WARNING:tensorflow:Early stopping conditioned on metric `val_loss` which is not available. Available metrics are: loss,accuracy\n",
      "100/100 [==============================] - 135s 1s/step - loss: 0.4893 - accuracy: 0.7683\n",
      "Epoch 43/50\n",
      "100/100 [==============================] - ETA: 0s - loss: 0.4925 - accuracy: 0.7699WARNING:tensorflow:Early stopping conditioned on metric `val_loss` which is not available. Available metrics are: loss,accuracy\n",
      "100/100 [==============================] - 135s 1s/step - loss: 0.4925 - accuracy: 0.7699\n",
      "Epoch 44/50\n",
      "100/100 [==============================] - ETA: 0s - loss: 0.4934 - accuracy: 0.7636WARNING:tensorflow:Early stopping conditioned on metric `val_loss` which is not available. Available metrics are: loss,accuracy\n",
      "100/100 [==============================] - 140s 1s/step - loss: 0.4934 - accuracy: 0.7636\n",
      "Epoch 45/50\n",
      "100/100 [==============================] - ETA: 0s - loss: 0.4783 - accuracy: 0.7727WARNING:tensorflow:Early stopping conditioned on metric `val_loss` which is not available. Available metrics are: loss,accuracy\n",
      "100/100 [==============================] - 136s 1s/step - loss: 0.4783 - accuracy: 0.7727\n",
      "Epoch 46/50\n",
      "100/100 [==============================] - ETA: 0s - loss: 0.4987 - accuracy: 0.7652WARNING:tensorflow:Early stopping conditioned on metric `val_loss` which is not available. Available metrics are: loss,accuracy\n",
      "100/100 [==============================] - 134s 1s/step - loss: 0.4987 - accuracy: 0.7652\n",
      "Epoch 47/50\n",
      "100/100 [==============================] - ETA: 0s - loss: 0.4760 - accuracy: 0.7743WARNING:tensorflow:Early stopping conditioned on metric `val_loss` which is not available. Available metrics are: loss,accuracy\n",
      "100/100 [==============================] - 134s 1s/step - loss: 0.4760 - accuracy: 0.7743\n",
      "Epoch 48/50\n",
      "100/100 [==============================] - ETA: 0s - loss: 0.4745 - accuracy: 0.7790WARNING:tensorflow:Early stopping conditioned on metric `val_loss` which is not available. Available metrics are: loss,accuracy\n",
      "100/100 [==============================] - 133s 1s/step - loss: 0.4745 - accuracy: 0.7790\n",
      "Epoch 49/50\n",
      "100/100 [==============================] - ETA: 0s - loss: 0.4672 - accuracy: 0.7771WARNING:tensorflow:Early stopping conditioned on metric `val_loss` which is not available. Available metrics are: loss,accuracy\n",
      "100/100 [==============================] - 133s 1s/step - loss: 0.4672 - accuracy: 0.7771\n",
      "Epoch 50/50\n",
      "100/100 [==============================] - ETA: 0s - loss: 0.4862 - accuracy: 0.7699WARNING:tensorflow:Early stopping conditioned on metric `val_loss` which is not available. Available metrics are: loss,accuracy\n",
      "100/100 [==============================] - 133s 1s/step - loss: 0.4862 - accuracy: 0.7699\n"
     ]
    }
   ],
   "source": [
    "history = model.fit(ds_train,\n",
    "          batch_size = BATCH, \n",
    "          epochs = 50,\n",
    "          validation_data=ds_val,\n",
    "          callbacks=early_stopping,\n",
    "          steps_per_epoch=100,\n",
    "          validation_steps=40);"
   ]
  },
  {
   "cell_type": "code",
   "execution_count": 56,
   "id": "462ee859",
   "metadata": {},
   "outputs": [
    {
     "name": "stdout",
     "output_type": "stream",
     "text": [
      "Val loss: 0.5101664662361145\n",
      "Val accuracy: 0.8787878751754761\n",
      "Best score: 0.779036819934845\n"
     ]
    }
   ],
   "source": [
    "showScore()"
   ]
  },
  {
   "cell_type": "code",
   "execution_count": 57,
   "id": "72438f7b",
   "metadata": {},
   "outputs": [],
   "source": [
    "early_stopping = callbacks.EarlyStopping(\n",
    "    monitor='val_loss',\n",
    "    patience=3,\n",
    "    mode='min',\n",
    ")"
   ]
  },
  {
   "cell_type": "code",
   "execution_count": 58,
   "id": "3a4a310f",
   "metadata": {},
   "outputs": [],
   "source": [
    "def get_model():    \n",
    "    #Input shape = [width, height, color channels]\n",
    "    inputs = layers.Input(shape=(IMG_SIZE, IMG_SIZE, 3))\n",
    "    hidden=inputs\n",
    "    \n",
    "    \n",
    "    hidden = layers.Conv2D(32, padding='valid', kernel_size=(3,3),activation='relu')(hidden)\n",
    "    hidden = layers.MaxPool2D(pool_size=(2,2),strides=(2,2))(hidden)\n",
    "    \n",
    "    hidden = layers.Conv2D(64, padding='valid', kernel_size=(3,3),activation='relu')(hidden)\n",
    "    hidden = layers.MaxPool2D(pool_size=(2,2),strides=(2,2))(hidden)\n",
    "    \n",
    "    \n",
    "    hidden = layers.Conv2D(238, padding='valid', kernel_size=(3,3),activation='relu')(hidden)   \n",
    "    hidden = layers.MaxPool2D(pool_size=(2,2),strides=(2,2))(hidden)    \n",
    "    \n",
    "    hidden = layers.Conv2D(64, padding='valid', kernel_size=(3,3),activation='relu')(hidden)   \n",
    "    hidden = layers.MaxPool2D(pool_size=(2,2),strides=(2,2))(hidden)\n",
    "    \n",
    "    hidden = layers.Conv2D(32, padding='valid', kernel_size=(3,3),activation='relu')(hidden)   \n",
    "    hidden = layers.MaxPool2D(pool_size=(2,2),strides=(2,2))(hidden)\n",
    "    \n",
    "    hidden = layers.Flatten()(hidden)\n",
    "    hidden = layers.Dense(64, activation='relu',kernel_regularizer=regularizers.L2(0.0001))(hidden)\n",
    "    hidden = layers.Dropout(0.2)(hidden)    \n",
    "    \n",
    "    output = layers.Dense(3, activation='softmax')(hidden)     \n",
    "    model = keras.Model(inputs,output)    \n",
    "    return model"
   ]
  },
  {
   "cell_type": "code",
   "execution_count": 59,
   "id": "ca0c2822",
   "metadata": {},
   "outputs": [
    {
     "name": "stdout",
     "output_type": "stream",
     "text": [
      "Model: \"model_4\"\n",
      "_________________________________________________________________\n",
      " Layer (type)                Output Shape              Param #   \n",
      "=================================================================\n",
      " input_5 (InputLayer)        [(None, 224, 224, 3)]     0         \n",
      "                                                                 \n",
      " conv2d_19 (Conv2D)          (None, 222, 222, 32)      896       \n",
      "                                                                 \n",
      " max_pooling2d_19 (MaxPoolin  (None, 111, 111, 32)     0         \n",
      " g2D)                                                            \n",
      "                                                                 \n",
      " conv2d_20 (Conv2D)          (None, 109, 109, 64)      18496     \n",
      "                                                                 \n",
      " max_pooling2d_20 (MaxPoolin  (None, 54, 54, 64)       0         \n",
      " g2D)                                                            \n",
      "                                                                 \n",
      " conv2d_21 (Conv2D)          (None, 52, 52, 238)       137326    \n",
      "                                                                 \n",
      " max_pooling2d_21 (MaxPoolin  (None, 26, 26, 238)      0         \n",
      " g2D)                                                            \n",
      "                                                                 \n",
      " conv2d_22 (Conv2D)          (None, 24, 24, 64)        137152    \n",
      "                                                                 \n",
      " max_pooling2d_22 (MaxPoolin  (None, 12, 12, 64)       0         \n",
      " g2D)                                                            \n",
      "                                                                 \n",
      " conv2d_23 (Conv2D)          (None, 10, 10, 32)        18464     \n",
      "                                                                 \n",
      " max_pooling2d_23 (MaxPoolin  (None, 5, 5, 32)         0         \n",
      " g2D)                                                            \n",
      "                                                                 \n",
      " flatten_4 (Flatten)         (None, 800)               0         \n",
      "                                                                 \n",
      " dense_8 (Dense)             (None, 64)                51264     \n",
      "                                                                 \n",
      " dropout_9 (Dropout)         (None, 64)                0         \n",
      "                                                                 \n",
      " dense_9 (Dense)             (None, 3)                 195       \n",
      "                                                                 \n",
      "=================================================================\n",
      "Total params: 363,793\n",
      "Trainable params: 363,793\n",
      "Non-trainable params: 0\n",
      "_________________________________________________________________\n"
     ]
    }
   ],
   "source": [
    "model = get_model()\n",
    "model.compile(loss='categorical_crossentropy'\n",
    "              , optimizer = keras.optimizers.Adam(), metrics='accuracy')\n",
    "\n",
    "model.summary()"
   ]
  },
  {
   "cell_type": "code",
   "execution_count": 60,
   "id": "8c6b4681",
   "metadata": {},
   "outputs": [
    {
     "name": "stdout",
     "output_type": "stream",
     "text": [
      "Epoch 1/50\n",
      "130/130 [==============================] - 253s 2s/step - loss: 1.0069 - accuracy: 0.5140 - val_loss: 0.7793 - val_accuracy: 0.6443\n",
      "Epoch 2/50\n",
      "130/130 [==============================] - 251s 2s/step - loss: 0.7514 - accuracy: 0.6433 - val_loss: 0.6550 - val_accuracy: 0.6942\n",
      "Epoch 3/50\n",
      "130/130 [==============================] - 252s 2s/step - loss: 0.6657 - accuracy: 0.6793 - val_loss: 0.5996 - val_accuracy: 0.7133\n",
      "Epoch 4/50\n",
      "130/130 [==============================] - 252s 2s/step - loss: 0.6487 - accuracy: 0.6848 - val_loss: 0.5760 - val_accuracy: 0.7162\n",
      "Epoch 5/50\n",
      "130/130 [==============================] - 251s 2s/step - loss: 0.6198 - accuracy: 0.6975 - val_loss: 0.5730 - val_accuracy: 0.7220\n",
      "Epoch 6/50\n",
      "130/130 [==============================] - 251s 2s/step - loss: 0.6127 - accuracy: 0.6982 - val_loss: 0.5783 - val_accuracy: 0.7191\n",
      "Epoch 7/50\n",
      "130/130 [==============================] - 251s 2s/step - loss: 0.6201 - accuracy: 0.7038 - val_loss: 0.5781 - val_accuracy: 0.7248\n",
      "Epoch 8/50\n",
      "130/130 [==============================] - 251s 2s/step - loss: 0.5993 - accuracy: 0.7069 - val_loss: 0.5478 - val_accuracy: 0.7306\n",
      "Epoch 9/50\n",
      "130/130 [==============================] - 253s 2s/step - loss: 0.5911 - accuracy: 0.7112 - val_loss: 0.5440 - val_accuracy: 0.7287\n",
      "Epoch 10/50\n",
      "130/130 [==============================] - 261s 2s/step - loss: 0.5927 - accuracy: 0.7105 - val_loss: 0.5360 - val_accuracy: 0.7287\n",
      "Epoch 11/50\n",
      "130/130 [==============================] - 254s 2s/step - loss: 0.5835 - accuracy: 0.7088 - val_loss: 0.5551 - val_accuracy: 0.7267\n",
      "Epoch 12/50\n",
      "130/130 [==============================] - 255s 2s/step - loss: 0.5885 - accuracy: 0.7112 - val_loss: 0.5297 - val_accuracy: 0.7478\n",
      "Epoch 13/50\n",
      "130/130 [==============================] - 251s 2s/step - loss: 0.5691 - accuracy: 0.7177 - val_loss: 0.5329 - val_accuracy: 0.7383\n",
      "Epoch 14/50\n",
      "130/130 [==============================] - 251s 2s/step - loss: 0.5732 - accuracy: 0.7186 - val_loss: 0.5350 - val_accuracy: 0.7363\n",
      "Epoch 15/50\n",
      "130/130 [==============================] - 250s 2s/step - loss: 0.5631 - accuracy: 0.7244 - val_loss: 0.5227 - val_accuracy: 0.7363\n",
      "Epoch 16/50\n",
      "130/130 [==============================] - 250s 2s/step - loss: 0.5595 - accuracy: 0.7246 - val_loss: 0.5244 - val_accuracy: 0.7459\n",
      "Epoch 17/50\n",
      "130/130 [==============================] - 252s 2s/step - loss: 0.5588 - accuracy: 0.7246 - val_loss: 0.5529 - val_accuracy: 0.7344\n",
      "Epoch 18/50\n",
      "130/130 [==============================] - 253s 2s/step - loss: 0.5626 - accuracy: 0.7232 - val_loss: 0.5146 - val_accuracy: 0.7469\n",
      "Epoch 19/50\n",
      "130/130 [==============================] - 252s 2s/step - loss: 0.5486 - accuracy: 0.7366 - val_loss: 0.5303 - val_accuracy: 0.7363\n",
      "Epoch 20/50\n",
      "130/130 [==============================] - 252s 2s/step - loss: 0.5482 - accuracy: 0.7354 - val_loss: 0.5669 - val_accuracy: 0.7057\n",
      "Epoch 21/50\n",
      "130/130 [==============================] - 251s 2s/step - loss: 0.5428 - accuracy: 0.7311 - val_loss: 0.5118 - val_accuracy: 0.7488\n",
      "Epoch 22/50\n",
      "130/130 [==============================] - 253s 2s/step - loss: 0.5449 - accuracy: 0.7395 - val_loss: 0.5483 - val_accuracy: 0.7009\n",
      "Epoch 23/50\n",
      "130/130 [==============================] - 252s 2s/step - loss: 0.5372 - accuracy: 0.7376 - val_loss: 0.5124 - val_accuracy: 0.7392\n",
      "Epoch 24/50\n",
      "130/130 [==============================] - 252s 2s/step - loss: 0.5323 - accuracy: 0.7397 - val_loss: 0.5217 - val_accuracy: 0.7440\n"
     ]
    }
   ],
   "source": [
    "history = model.fit(ds_train,\n",
    "          batch_size = 100, \n",
    "          epochs = 50,\n",
    "          validation_data=ds_val,\n",
    "          callbacks=early_stopping,\n",
    "          steps_per_epoch=(len(train_df)/BATCH),\n",
    "          validation_steps=(len(val_df)/BATCH));"
   ]
  },
  {
   "cell_type": "code",
   "execution_count": 61,
   "id": "0d1fc5e7",
   "metadata": {},
   "outputs": [
    {
     "name": "stdout",
     "output_type": "stream",
     "text": [
      "Val loss: 0.3962772488594055\n",
      "Val accuracy: 0.9696969985961914\n",
      "Best score: 0.7397457361221313\n"
     ]
    }
   ],
   "source": [
    "showScore()"
   ]
  },
  {
   "cell_type": "code",
   "execution_count": 62,
   "id": "bdafefb5",
   "metadata": {},
   "outputs": [],
   "source": [
    "def get_model():    \n",
    "    #Input shape = [width, height, color channels]\n",
    "    inputs = layers.Input(shape=(IMG_SIZE, IMG_SIZE, 3))\n",
    "    hidden=inputs\n",
    "    \n",
    "    \n",
    "    hidden = layers.Conv2D(32, padding='valid', kernel_size=(3,3),activation='relu')(hidden)\n",
    "    hidden = layers.MaxPool2D(pool_size=(2,2),strides=(2,2))(hidden)\n",
    "    \n",
    "    hidden = layers.Conv2D(64, padding='valid', kernel_size=(3,3),activation='relu')(hidden)\n",
    "    hidden = layers.MaxPool2D(pool_size=(2,2),strides=(2,2))(hidden)\n",
    "    \n",
    "    \n",
    "    hidden = layers.Conv2D(128, padding='valid', kernel_size=(3,3),activation='relu')(hidden)   \n",
    "    hidden = layers.MaxPool2D(pool_size=(2,2),strides=(2,2))(hidden)    \n",
    "    \n",
    "    hidden = layers.Conv2D(128, padding='valid', kernel_size=(3,3),activation='relu')(hidden)   \n",
    "    hidden = layers.MaxPool2D(pool_size=(2,2),strides=(2,2))(hidden)\n",
    "    \n",
    "    hidden = layers.Conv2D(64, padding='valid', kernel_size=(3,3),activation='relu')(hidden)\n",
    "    hidden = layers.MaxPool2D(pool_size=(2,2),strides=(2,2))(hidden)\n",
    "    \n",
    "    hidden = layers.Conv2D(32, padding='valid', kernel_size=(3,3),activation='relu')(hidden)   \n",
    "    hidden = layers.MaxPool2D(pool_size=(2,2),strides=(2,2))(hidden)\n",
    "    \n",
    "    hidden = layers.Flatten()(hidden)\n",
    "    hidden = layers.Dense(64, activation='relu',kernel_regularizer=regularizers.L2(0.0001))(hidden)\n",
    "    hidden = layers.Dropout(0.2)(hidden)    \n",
    "    \n",
    "    output = layers.Dense(3, activation='softmax')(hidden)     \n",
    "    model = keras.Model(inputs,output)    \n",
    "    return model"
   ]
  },
  {
   "cell_type": "code",
   "execution_count": 63,
   "id": "e53e0ef1",
   "metadata": {},
   "outputs": [
    {
     "name": "stdout",
     "output_type": "stream",
     "text": [
      "Model: \"model_5\"\n",
      "_________________________________________________________________\n",
      " Layer (type)                Output Shape              Param #   \n",
      "=================================================================\n",
      " input_6 (InputLayer)        [(None, 224, 224, 3)]     0         \n",
      "                                                                 \n",
      " conv2d_24 (Conv2D)          (None, 222, 222, 32)      896       \n",
      "                                                                 \n",
      " max_pooling2d_24 (MaxPoolin  (None, 111, 111, 32)     0         \n",
      " g2D)                                                            \n",
      "                                                                 \n",
      " conv2d_25 (Conv2D)          (None, 109, 109, 64)      18496     \n",
      "                                                                 \n",
      " max_pooling2d_25 (MaxPoolin  (None, 54, 54, 64)       0         \n",
      " g2D)                                                            \n",
      "                                                                 \n",
      " conv2d_26 (Conv2D)          (None, 52, 52, 128)       73856     \n",
      "                                                                 \n",
      " max_pooling2d_26 (MaxPoolin  (None, 26, 26, 128)      0         \n",
      " g2D)                                                            \n",
      "                                                                 \n",
      " conv2d_27 (Conv2D)          (None, 24, 24, 128)       147584    \n",
      "                                                                 \n",
      " max_pooling2d_27 (MaxPoolin  (None, 12, 12, 128)      0         \n",
      " g2D)                                                            \n",
      "                                                                 \n",
      " conv2d_28 (Conv2D)          (None, 10, 10, 64)        73792     \n",
      "                                                                 \n",
      " max_pooling2d_28 (MaxPoolin  (None, 5, 5, 64)         0         \n",
      " g2D)                                                            \n",
      "                                                                 \n",
      " conv2d_29 (Conv2D)          (None, 3, 3, 32)          18464     \n",
      "                                                                 \n",
      " max_pooling2d_29 (MaxPoolin  (None, 1, 1, 32)         0         \n",
      " g2D)                                                            \n",
      "                                                                 \n",
      " flatten_5 (Flatten)         (None, 32)                0         \n",
      "                                                                 \n",
      " dense_10 (Dense)            (None, 64)                2112      \n",
      "                                                                 \n",
      " dropout_10 (Dropout)        (None, 64)                0         \n",
      "                                                                 \n",
      " dense_11 (Dense)            (None, 3)                 195       \n",
      "                                                                 \n",
      "=================================================================\n",
      "Total params: 335,395\n",
      "Trainable params: 335,395\n",
      "Non-trainable params: 0\n",
      "_________________________________________________________________\n"
     ]
    }
   ],
   "source": [
    "model = get_model()\n",
    "model.compile(loss='categorical_crossentropy'\n",
    "              , optimizer = keras.optimizers.Adam(), metrics='accuracy')\n",
    "\n",
    "model.summary()"
   ]
  },
  {
   "cell_type": "code",
   "execution_count": 64,
   "id": "adfa551c",
   "metadata": {},
   "outputs": [
    {
     "name": "stdout",
     "output_type": "stream",
     "text": [
      "Epoch 1/50\n",
      "130/130 [==============================] - 236s 2s/step - loss: 1.0646 - accuracy: 0.4824 - val_loss: 1.0533 - val_accuracy: 0.4851\n",
      "Epoch 2/50\n",
      "130/130 [==============================] - 231s 2s/step - loss: 1.0553 - accuracy: 0.4855 - val_loss: 1.0539 - val_accuracy: 0.4851\n",
      "Epoch 3/50\n",
      "130/130 [==============================] - 230s 2s/step - loss: 1.0528 - accuracy: 0.4855 - val_loss: 1.0514 - val_accuracy: 0.4851\n",
      "Epoch 4/50\n",
      "130/130 [==============================] - 229s 2s/step - loss: 1.0528 - accuracy: 0.4855 - val_loss: 1.0521 - val_accuracy: 0.4851\n",
      "Epoch 5/50\n",
      "130/130 [==============================] - 230s 2s/step - loss: 1.0528 - accuracy: 0.4855 - val_loss: 1.0504 - val_accuracy: 0.4851\n",
      "Epoch 6/50\n",
      "130/130 [==============================] - 229s 2s/step - loss: 1.0518 - accuracy: 0.4855 - val_loss: 1.0500 - val_accuracy: 0.4851\n",
      "Epoch 7/50\n",
      "130/130 [==============================] - 228s 2s/step - loss: 1.0514 - accuracy: 0.4852 - val_loss: 1.0460 - val_accuracy: 0.4851\n",
      "Epoch 8/50\n",
      "130/130 [==============================] - 228s 2s/step - loss: 0.9126 - accuracy: 0.5699 - val_loss: 0.8109 - val_accuracy: 0.6500\n",
      "Epoch 9/50\n",
      "130/130 [==============================] - 229s 2s/step - loss: 0.7770 - accuracy: 0.6407 - val_loss: 0.7013 - val_accuracy: 0.6788\n",
      "Epoch 10/50\n",
      "130/130 [==============================] - 228s 2s/step - loss: 0.7041 - accuracy: 0.6695 - val_loss: 0.7052 - val_accuracy: 0.6740\n",
      "Epoch 11/50\n",
      "130/130 [==============================] - 228s 2s/step - loss: 0.6646 - accuracy: 0.6805 - val_loss: 0.6188 - val_accuracy: 0.7076\n",
      "Epoch 12/50\n",
      "130/130 [==============================] - 228s 2s/step - loss: 0.6514 - accuracy: 0.6891 - val_loss: 0.6299 - val_accuracy: 0.6999\n",
      "Epoch 13/50\n",
      "130/130 [==============================] - 228s 2s/step - loss: 0.6478 - accuracy: 0.6779 - val_loss: 0.6212 - val_accuracy: 0.7057\n",
      "Epoch 14/50\n",
      "130/130 [==============================] - 228s 2s/step - loss: 0.6303 - accuracy: 0.6915 - val_loss: 0.6051 - val_accuracy: 0.7095\n",
      "Epoch 15/50\n",
      "130/130 [==============================] - 241s 2s/step - loss: 0.6084 - accuracy: 0.7018 - val_loss: 0.5797 - val_accuracy: 0.7105\n",
      "Epoch 16/50\n",
      "130/130 [==============================] - 226s 2s/step - loss: 0.6066 - accuracy: 0.6990 - val_loss: 0.5797 - val_accuracy: 0.7133\n",
      "Epoch 17/50\n",
      "130/130 [==============================] - 215s 2s/step - loss: 0.5850 - accuracy: 0.7090 - val_loss: 0.5672 - val_accuracy: 0.7076\n",
      "Epoch 18/50\n",
      "130/130 [==============================] - 218s 2s/step - loss: 0.5781 - accuracy: 0.7102 - val_loss: 0.5535 - val_accuracy: 0.7124\n",
      "Epoch 19/50\n",
      "130/130 [==============================] - 227s 2s/step - loss: 0.5649 - accuracy: 0.7194 - val_loss: 0.5738 - val_accuracy: 0.7114\n",
      "Epoch 20/50\n",
      "130/130 [==============================] - 227s 2s/step - loss: 0.5672 - accuracy: 0.7201 - val_loss: 0.5499 - val_accuracy: 0.7200\n",
      "Epoch 21/50\n",
      "130/130 [==============================] - 227s 2s/step - loss: 0.5569 - accuracy: 0.7208 - val_loss: 0.5868 - val_accuracy: 0.7066\n",
      "Epoch 22/50\n",
      "130/130 [==============================] - 227s 2s/step - loss: 0.5519 - accuracy: 0.7273 - val_loss: 0.5606 - val_accuracy: 0.7191\n",
      "Epoch 23/50\n",
      "130/130 [==============================] - 228s 2s/step - loss: 0.5623 - accuracy: 0.7150 - val_loss: 0.5439 - val_accuracy: 0.7152\n",
      "Epoch 24/50\n",
      "130/130 [==============================] - 228s 2s/step - loss: 0.5500 - accuracy: 0.7302 - val_loss: 0.5348 - val_accuracy: 0.7258\n",
      "Epoch 25/50\n",
      "130/130 [==============================] - 229s 2s/step - loss: 0.5462 - accuracy: 0.7258 - val_loss: 0.5225 - val_accuracy: 0.7191\n",
      "Epoch 26/50\n",
      "130/130 [==============================] - 228s 2s/step - loss: 0.5552 - accuracy: 0.7230 - val_loss: 0.5482 - val_accuracy: 0.7229\n",
      "Epoch 27/50\n",
      "130/130 [==============================] - 228s 2s/step - loss: 0.5328 - accuracy: 0.7357 - val_loss: 0.6062 - val_accuracy: 0.6942\n",
      "Epoch 28/50\n",
      "130/130 [==============================] - 211s 2s/step - loss: 0.5433 - accuracy: 0.7345 - val_loss: 0.5602 - val_accuracy: 0.7124\n"
     ]
    }
   ],
   "source": [
    "history = model.fit(ds_train,\n",
    "          batch_size = 50, \n",
    "          epochs = 50,\n",
    "          validation_data=ds_val,\n",
    "          callbacks=early_stopping,\n",
    "          steps_per_epoch=(len(train_df)/BATCH),\n",
    "          validation_steps=(len(val_df)/BATCH));"
   ]
  },
  {
   "cell_type": "code",
   "execution_count": 65,
   "id": "a39b23e7",
   "metadata": {},
   "outputs": [
    {
     "name": "stdout",
     "output_type": "stream",
     "text": [
      "Val loss: 0.3985125422477722\n",
      "Val accuracy: 0.9090909361839294\n",
      "Best score: 0.7356680035591125\n"
     ]
    }
   ],
   "source": [
    "showScore()"
   ]
  },
  {
   "cell_type": "code",
   "execution_count": null,
   "id": "9118dcf6",
   "metadata": {},
   "outputs": [],
   "source": []
  }
 ],
 "metadata": {
  "kernelspec": {
   "display_name": "Python [conda env:tensorflow] *",
   "language": "python",
   "name": "conda-env-tensorflow-py"
  },
  "language_info": {
   "codemirror_mode": {
    "name": "ipython",
    "version": 3
   },
   "file_extension": ".py",
   "mimetype": "text/x-python",
   "name": "python",
   "nbconvert_exporter": "python",
   "pygments_lexer": "ipython3",
   "version": "3.7.13"
  }
 },
 "nbformat": 4,
 "nbformat_minor": 5
}
